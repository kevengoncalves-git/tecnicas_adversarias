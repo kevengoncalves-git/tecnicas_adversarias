{
  "nbformat": 4,
  "nbformat_minor": 0,
  "metadata": {
    "colab": {
      "provenance": [],
      "include_colab_link": true
    },
    "kernelspec": {
      "name": "python3",
      "display_name": "Python 3"
    },
    "language_info": {
      "name": "python"
    }
  },
  "cells": [
    {
      "cell_type": "markdown",
      "metadata": {
        "id": "view-in-github",
        "colab_type": "text"
      },
      "source": [
        "<a href=\"https://colab.research.google.com/github/kevengoncalves-git/tecnicas_adversarias/blob/Edu/BibliotecaPE.ipynb\" target=\"_parent\"><img src=\"https://colab.research.google.com/assets/colab-badge.svg\" alt=\"Open In Colab\"/></a>"
      ]
    },
    {
      "cell_type": "code",
      "source": [
        "!pip install pefile"
      ],
      "metadata": {
        "colab": {
          "base_uri": "https://localhost:8080/"
        },
        "id": "K64KT8R62UcZ",
        "outputId": "5aa48bce-d9de-4f1f-e398-7d812920c59c"
      },
      "execution_count": null,
      "outputs": [
        {
          "output_type": "stream",
          "name": "stdout",
          "text": [
            "Collecting pefile\n",
            "  Downloading pefile-2024.8.26-py3-none-any.whl.metadata (1.4 kB)\n",
            "Downloading pefile-2024.8.26-py3-none-any.whl (74 kB)\n",
            "\u001b[?25l   \u001b[90m━━━━━━━━━━━━━━━━━━━━━━━━━━━━━━━━━━━━━━━━\u001b[0m \u001b[32m0.0/74.8 kB\u001b[0m \u001b[31m?\u001b[0m eta \u001b[36m-:--:--\u001b[0m\r\u001b[2K   \u001b[90m━━━━━━━━━━━━━━━━━━━━━━━━━━━━━━━━━━━━━━━━\u001b[0m \u001b[32m74.8/74.8 kB\u001b[0m \u001b[31m2.1 MB/s\u001b[0m eta \u001b[36m0:00:00\u001b[0m\n",
            "\u001b[?25hInstalling collected packages: pefile\n",
            "Successfully installed pefile-2024.8.26\n"
          ]
        }
      ]
    },
    {
      "cell_type": "code",
      "execution_count": null,
      "metadata": {
        "id": "ArHsC5fnn2Vh"
      },
      "outputs": [],
      "source": [
        "import pefile"
      ]
    },
    {
      "cell_type": "code",
      "source": [
        "import pefile\n",
        "\n",
        "def editar_binario(caminho_good):\n",
        "\n",
        "  pe =  pefile.PE(caminho_good)\n",
        "  empty_spaces = []\n",
        "  name_file = caminho_good.strip('/content/drive/MyDrive/Goodware_Test/goodware_test/')[0:-3]\n",
        "\n",
        "  for section in pe.sections:\n",
        "\n",
        "    if b'.data' in section.Name:\n",
        "\n",
        "      print(f\"Seção encontrada: {section.Name}\")\n",
        "      raw_offset = section.PointerToRawData\n",
        "      size_data = int(len(section.get_data()))\n",
        "      data_section = section.get_data()\n",
        "\n",
        "      for i in range(0,int(size_data/16)):\n",
        "        if data_section[16*i:16*(i+1)] == b'\\x00'*16:\n",
        "          empty_spaces.append([16*i,16*(i+1)])\n",
        "          #print(f'{16*i} - {16*(i+1)}')\n",
        "\n",
        "      section_data = bytearray(data_section)\n",
        "      section_data[empty_spaces[0][0]:empty_spaces[0][1]] = b'\\x62\\x69\\x74\\x63\\x6F\\x69\\x6E\\x40\\x40\\x62\\x69\\x74\\x63\\x6F\\x69\\x6E'\n",
        "\n",
        "      with open(caminho_good, \"rb\") as f:\n",
        "        data = bytearray(f.read())\n",
        "        data[raw_offset:raw_offset + size_data] = section_data\n",
        "\n",
        "      with open(f\"{name_file}_modificado.exe\", \"wb\") as f:\n",
        "        f.write(data)\n",
        "  return 0"
      ],
      "metadata": {
        "id": "DFEX7XrLUCvE"
      },
      "execution_count": 60,
      "outputs": []
    },
    {
      "cell_type": "code",
      "source": [
        "editar_binario('/content/drive/MyDrive/Goodware_Test/goodware_test/FreeStopwatch.exe')"
      ],
      "metadata": {
        "colab": {
          "base_uri": "https://localhost:8080/"
        },
        "id": "FAg4YYvxaac-",
        "outputId": "9a515c78-f659-484c-e4c4-29339dda7cfa"
      },
      "execution_count": 61,
      "outputs": [
        {
          "output_type": "stream",
          "name": "stdout",
          "text": [
            "Seção encontrada: b'.data\\x00\\x00\\x00'\n"
          ]
        },
        {
          "output_type": "execute_result",
          "data": {
            "text/plain": [
              "0"
            ]
          },
          "metadata": {},
          "execution_count": 61
        }
      ]
    }
  ]
}