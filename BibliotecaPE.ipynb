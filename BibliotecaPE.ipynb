{
  "nbformat": 4,
  "nbformat_minor": 0,
  "metadata": {
    "colab": {
      "provenance": [],
      "authorship_tag": "ABX9TyOnGJ/EwdHRMNoicKkPX8KB",
      "include_colab_link": true
    },
    "kernelspec": {
      "name": "python3",
      "display_name": "Python 3"
    },
    "language_info": {
      "name": "python"
    }
  },
  "cells": [
    {
      "cell_type": "markdown",
      "metadata": {
        "id": "view-in-github",
        "colab_type": "text"
      },
      "source": [
        "<a href=\"https://colab.research.google.com/github/kevengoncalves-git/tecnicas_adversarias/blob/Keven/BibliotecaPE.ipynb\" target=\"_parent\"><img src=\"https://colab.research.google.com/assets/colab-badge.svg\" alt=\"Open In Colab\"/></a>"
      ]
    },
    {
      "cell_type": "code",
      "source": [
        "!pip install pefile"
      ],
      "metadata": {
        "colab": {
          "base_uri": "https://localhost:8080/"
        },
        "id": "7hLULpvM3DCj",
        "outputId": "f9adbd52-592d-44ba-f48b-f335f4450299"
      },
      "execution_count": 9,
      "outputs": [
        {
          "output_type": "stream",
          "name": "stdout",
          "text": [
            "Collecting pefile\n",
            "  Downloading pefile-2024.8.26-py3-none-any.whl.metadata (1.4 kB)\n",
            "Downloading pefile-2024.8.26-py3-none-any.whl (74 kB)\n",
            "\u001b[?25l   \u001b[90m━━━━━━━━━━━━━━━━━━━━━━━━━━━━━━━━━━━━━━━━\u001b[0m \u001b[32m0.0/74.8 kB\u001b[0m \u001b[31m?\u001b[0m eta \u001b[36m-:--:--\u001b[0m\r\u001b[2K   \u001b[90m━━━━━━━━━━━━━━━━━━━━━━━━━━━━━━━━━━━━━━━━\u001b[0m \u001b[32m74.8/74.8 kB\u001b[0m \u001b[31m5.0 MB/s\u001b[0m eta \u001b[36m0:00:00\u001b[0m\n",
            "\u001b[?25hInstalling collected packages: pefile\n",
            "Successfully installed pefile-2024.8.26\n"
          ]
        }
      ]
    },
    {
      "cell_type": "code",
      "execution_count": 10,
      "metadata": {
        "id": "ArHsC5fnn2Vh"
      },
      "outputs": [],
      "source": [
        "import pefile"
      ]
    },
    {
      "cell_type": "code",
      "source": [
        "pe = pefile.PE(\"convert.exe\", fast_load=True)\n",
        "pe2 = pefile.PE(\"_isdel.exe\")"
      ],
      "metadata": {
        "id": "AH2cschB9_xz"
      },
      "execution_count": 34,
      "outputs": []
    },
    {
      "cell_type": "code",
      "source": [
        "pe.FILE_HEADER.dump()"
      ],
      "metadata": {
        "colab": {
          "base_uri": "https://localhost:8080/"
        },
        "id": "S1iBDs_tKDh8",
        "outputId": "db416722-52df-4094-cd29-dcc59cf97fb1"
      },
      "execution_count": 82,
      "outputs": [
        {
          "output_type": "execute_result",
          "data": {
            "text/plain": [
              "['[IMAGE_FILE_HEADER]',\n",
              " '0xF4       0x0   Machine:                       0x14C     ',\n",
              " '0xF6       0x2   NumberOfSections:              0x5       ',\n",
              " '0xF8       0x4   TimeDateStamp:                 0x146469C7F [Wed Jun 19 11:33:19 2143 UTC]',\n",
              " '0xFC       0x8   PointerToSymbolTable:          0x0       ',\n",
              " '0x100      0xC   NumberOfSymbols:               0x0       ',\n",
              " '0x104      0x10  SizeOfOptionalHeader:          0xE0      ',\n",
              " '0x106      0x12  Characteristics:               0x102     ']"
            ]
          },
          "metadata": {},
          "execution_count": 82
        }
      ]
    },
    {
      "cell_type": "code",
      "source": [
        "arquivos_file =pe2.FILE_HEADER.dump()"
      ],
      "metadata": {
        "id": "ydytdaQE-ngm"
      },
      "execution_count": 57,
      "outputs": []
    },
    {
      "cell_type": "code",
      "source": [
        "arquivos_file"
      ],
      "metadata": {
        "colab": {
          "base_uri": "https://localhost:8080/"
        },
        "id": "zFYG1brIFoYH",
        "outputId": "52440dfb-5eb8-4530-fedd-bcdf75e2761a"
      },
      "execution_count": 58,
      "outputs": [
        {
          "output_type": "execute_result",
          "data": {
            "text/plain": [
              "['[IMAGE_FILE_HEADER]',\n",
              " '0xCC       0x0   Machine:                       0x14C     ',\n",
              " '0xCE       0x2   NumberOfSections:              0x4       ',\n",
              " '0xD0       0x4   TimeDateStamp:                 0x363619C9 [Tue Oct 27 19:06:49 1998 UTC]',\n",
              " '0xD4       0x8   PointerToSymbolTable:          0x0       ',\n",
              " '0xD8       0xC   NumberOfSymbols:               0x0       ',\n",
              " '0xDC       0x10  SizeOfOptionalHeader:          0xE0      ',\n",
              " '0xDE       0x12  Characteristics:               0x10F     ']"
            ]
          },
          "metadata": {},
          "execution_count": 58
        }
      ]
    },
    {
      "cell_type": "code",
      "source": [
        "arquivos_file[3]"
      ],
      "metadata": {
        "colab": {
          "base_uri": "https://localhost:8080/",
          "height": 35
        },
        "id": "w1tRsOeSF4X-",
        "outputId": "484c9cf1-1a3b-47f4-8e88-dbc78e23a787"
      },
      "execution_count": 75,
      "outputs": [
        {
          "output_type": "execute_result",
          "data": {
            "text/plain": [
              "'0xD0       0x4   TimeDateStamp:                 0x363619C9 [Tue Oct 27 19:06:49 1998 UTC]'"
            ],
            "application/vnd.google.colaboratory.intrinsic+json": {
              "type": "string"
            }
          },
          "metadata": {},
          "execution_count": 75
        }
      ]
    },
    {
      "cell_type": "code",
      "source": [
        "caracteristicas = pe.FILE_HEADER.Characteristics"
      ],
      "metadata": {
        "id": "FBOm6EGoJok-"
      },
      "execution_count": 87,
      "outputs": []
    },
    {
      "cell_type": "code",
      "source": [
        "pe.FILE_HEADER.dump()"
      ],
      "metadata": {
        "colab": {
          "base_uri": "https://localhost:8080/"
        },
        "id": "Wxsw4NRKJ2GK",
        "outputId": "da85c4a7-e843-4919-f61b-c8b4115be718"
      },
      "execution_count": 79,
      "outputs": [
        {
          "output_type": "execute_result",
          "data": {
            "text/plain": [
              "['[IMAGE_FILE_HEADER]',\n",
              " '0xF4       0x0   Machine:                       0x14C     ',\n",
              " '0xF6       0x2   NumberOfSections:              0x5       ',\n",
              " '0xF8       0x4   TimeDateStamp:                 0x146469C7F [Wed Jun 19 11:33:19 2143 UTC]',\n",
              " '0xFC       0x8   PointerToSymbolTable:          0x0       ',\n",
              " '0x100      0xC   NumberOfSymbols:               0x0       ',\n",
              " '0x104      0x10  SizeOfOptionalHeader:          0xE0      ',\n",
              " '0x106      0x12  Characteristics:               0x102     ']"
            ]
          },
          "metadata": {},
          "execution_count": 79
        }
      ]
    },
    {
      "cell_type": "code",
      "source": [
        "pe.NT_HEADERS"
      ],
      "metadata": {
        "colab": {
          "base_uri": "https://localhost:8080/"
        },
        "id": "nxFRmQxBErkX",
        "outputId": "db2797b5-d7e1-4f04-8343-dc640f48f099"
      },
      "execution_count": 46,
      "outputs": [
        {
          "output_type": "execute_result",
          "data": {
            "text/plain": [
              "<Structure: [IMAGE_NT_HEADERS] 0xF0 0x0 Signature: 0x4550>"
            ]
          },
          "metadata": {},
          "execution_count": 46
        }
      ]
    },
    {
      "cell_type": "code",
      "source": [
        "for section in pe.sections:\n",
        "    print(section)"
      ],
      "metadata": {
        "colab": {
          "base_uri": "https://localhost:8080/"
        },
        "id": "OdeYm0PXGWlU",
        "outputId": "a0fe3533-f672-4d30-e475-7dfcea414f59"
      },
      "execution_count": 67,
      "outputs": [
        {
          "output_type": "stream",
          "name": "stdout",
          "text": [
            "[IMAGE_SECTION_HEADER]\n",
            "0x1E8      0x0   Name:                          .text\n",
            "0x1F0      0x8   Misc:                          0x270C    \n",
            "0x1F0      0x8   Misc_PhysicalAddress:          0x270C    \n",
            "0x1F0      0x8   Misc_VirtualSize:              0x270C    \n",
            "0x1F4      0xC   VirtualAddress:                0x1000    \n",
            "0x1F8      0x10  SizeOfRawData:                 0x2800    \n",
            "0x1FC      0x14  PointerToRawData:              0x400     \n",
            "0x200      0x18  PointerToRelocations:          0x0       \n",
            "0x204      0x1C  PointerToLinenumbers:          0x0       \n",
            "0x208      0x20  NumberOfRelocations:           0x0       \n",
            "0x20A      0x22  NumberOfLinenumbers:           0x0       \n",
            "0x20C      0x24  Characteristics:               0x60000020\n",
            "[IMAGE_SECTION_HEADER]\n",
            "0x210      0x0   Name:                          .data\n",
            "0x218      0x8   Misc:                          0x37C     \n",
            "0x218      0x8   Misc_PhysicalAddress:          0x37C     \n",
            "0x218      0x8   Misc_VirtualSize:              0x37C     \n",
            "0x21C      0xC   VirtualAddress:                0x4000    \n",
            "0x220      0x10  SizeOfRawData:                 0x200     \n",
            "0x224      0x14  PointerToRawData:              0x2C00    \n",
            "0x228      0x18  PointerToRelocations:          0x0       \n",
            "0x22C      0x1C  PointerToLinenumbers:          0x0       \n",
            "0x230      0x20  NumberOfRelocations:           0x0       \n",
            "0x232      0x22  NumberOfLinenumbers:           0x0       \n",
            "0x234      0x24  Characteristics:               0xC0000040\n",
            "[IMAGE_SECTION_HEADER]\n",
            "0x238      0x0   Name:                          .idata\n",
            "0x240      0x8   Misc:                          0x1006    \n",
            "0x240      0x8   Misc_PhysicalAddress:          0x1006    \n",
            "0x240      0x8   Misc_VirtualSize:              0x1006    \n",
            "0x244      0xC   VirtualAddress:                0x5000    \n",
            "0x248      0x10  SizeOfRawData:                 0x1200    \n",
            "0x24C      0x14  PointerToRawData:              0x2E00    \n",
            "0x250      0x18  PointerToRelocations:          0x0       \n",
            "0x254      0x1C  PointerToLinenumbers:          0x0       \n",
            "0x258      0x20  NumberOfRelocations:           0x0       \n",
            "0x25A      0x22  NumberOfLinenumbers:           0x0       \n",
            "0x25C      0x24  Characteristics:               0x40000040\n",
            "[IMAGE_SECTION_HEADER]\n",
            "0x260      0x0   Name:                          .rsrc\n",
            "0x268      0x8   Misc:                          0x6F8     \n",
            "0x268      0x8   Misc_PhysicalAddress:          0x6F8     \n",
            "0x268      0x8   Misc_VirtualSize:              0x6F8     \n",
            "0x26C      0xC   VirtualAddress:                0x7000    \n",
            "0x270      0x10  SizeOfRawData:                 0x800     \n",
            "0x274      0x14  PointerToRawData:              0x4000    \n",
            "0x278      0x18  PointerToRelocations:          0x0       \n",
            "0x27C      0x1C  PointerToLinenumbers:          0x0       \n",
            "0x280      0x20  NumberOfRelocations:           0x0       \n",
            "0x282      0x22  NumberOfLinenumbers:           0x0       \n",
            "0x284      0x24  Characteristics:               0x40000040\n",
            "[IMAGE_SECTION_HEADER]\n",
            "0x288      0x0   Name:                          .reloc\n",
            "0x290      0x8   Misc:                          0x3DC     \n",
            "0x290      0x8   Misc_PhysicalAddress:          0x3DC     \n",
            "0x290      0x8   Misc_VirtualSize:              0x3DC     \n",
            "0x294      0xC   VirtualAddress:                0x8000    \n",
            "0x298      0x10  SizeOfRawData:                 0x400     \n",
            "0x29C      0x14  PointerToRawData:              0x4800    \n",
            "0x2A0      0x18  PointerToRelocations:          0x0       \n",
            "0x2A4      0x1C  PointerToLinenumbers:          0x0       \n",
            "0x2A8      0x20  NumberOfRelocations:           0x0       \n",
            "0x2AA      0x22  NumberOfLinenumbers:           0x0       \n",
            "0x2AC      0x24  Characteristics:               0x42000040\n"
          ]
        }
      ]
    },
    {
      "cell_type": "code",
      "source": [
        "pe.sections[0].dump()"
      ],
      "metadata": {
        "colab": {
          "base_uri": "https://localhost:8080/"
        },
        "id": "4lS4S8EHI982",
        "outputId": "09e050a5-5fd3-451c-a1b2-c654ed7d6a81"
      },
      "execution_count": 70,
      "outputs": [
        {
          "output_type": "execute_result",
          "data": {
            "text/plain": [
              "['[IMAGE_SECTION_HEADER]',\n",
              " '0x1E8      0x0   Name:                          .text',\n",
              " '0x1F0      0x8   Misc:                          0x270C    ',\n",
              " '0x1F0      0x8   Misc_PhysicalAddress:          0x270C    ',\n",
              " '0x1F0      0x8   Misc_VirtualSize:              0x270C    ',\n",
              " '0x1F4      0xC   VirtualAddress:                0x1000    ',\n",
              " '0x1F8      0x10  SizeOfRawData:                 0x2800    ',\n",
              " '0x1FC      0x14  PointerToRawData:              0x400     ',\n",
              " '0x200      0x18  PointerToRelocations:          0x0       ',\n",
              " '0x204      0x1C  PointerToLinenumbers:          0x0       ',\n",
              " '0x208      0x20  NumberOfRelocations:           0x0       ',\n",
              " '0x20A      0x22  NumberOfLinenumbers:           0x0       ',\n",
              " '0x20C      0x24  Characteristics:               0x60000020']"
            ]
          },
          "metadata": {},
          "execution_count": 70
        }
      ]
    },
    {
      "cell_type": "code",
      "source": [
        "#estrutura\n",
        "#DOS_HEADER\n",
        "#NT_HEADERS\n",
        "#FILE_HEADER\n",
        "#OPTIONAL_HEADER"
      ],
      "metadata": {
        "id": "ffQ2VmfbIHDV"
      },
      "execution_count": null,
      "outputs": []
    }
  ]
}