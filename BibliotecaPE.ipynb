{
  "nbformat": 4,
  "nbformat_minor": 0,
  "metadata": {
    "colab": {
      "provenance": [],
      "authorship_tag": "ABX9TyPAytmCxZAM2KJ4v1JWaNi3",
      "include_colab_link": true
    },
    "kernelspec": {
      "name": "python3",
      "display_name": "Python 3"
    },
    "language_info": {
      "name": "python"
    }
  },
  "cells": [
    {
      "cell_type": "markdown",
      "metadata": {
        "id": "view-in-github",
        "colab_type": "text"
      },
      "source": [
        "<a href=\"https://colab.research.google.com/github/kevengoncalves-git/tecnicas_adversarias/blob/Keven/BibliotecaPE.ipynb\" target=\"_parent\"><img src=\"https://colab.research.google.com/assets/colab-badge.svg\" alt=\"Open In Colab\"/></a>"
      ]
    },
    {
      "cell_type": "code",
      "source": [
        "!pip install pefile"
      ],
      "metadata": {
        "colab": {
          "base_uri": "https://localhost:8080/"
        },
        "id": "7hLULpvM3DCj",
        "outputId": "0bc49b4b-c3fd-45b0-c181-ed203f0165f3"
      },
      "execution_count": 2,
      "outputs": [
        {
          "output_type": "stream",
          "name": "stdout",
          "text": [
            "Collecting pefile\n",
            "  Downloading pefile-2024.8.26-py3-none-any.whl.metadata (1.4 kB)\n",
            "Downloading pefile-2024.8.26-py3-none-any.whl (74 kB)\n",
            "\u001b[?25l   \u001b[90m━━━━━━━━━━━━━━━━━━━━━━━━━━━━━━━━━━━━━━━━\u001b[0m \u001b[32m0.0/74.8 kB\u001b[0m \u001b[31m?\u001b[0m eta \u001b[36m-:--:--\u001b[0m\r\u001b[2K   \u001b[90m━━━━━━━━━━━━━━━━━━━━━━━━━━━━━━━━━━━━━━━━\u001b[0m \u001b[32m74.8/74.8 kB\u001b[0m \u001b[31m2.0 MB/s\u001b[0m eta \u001b[36m0:00:00\u001b[0m\n",
            "\u001b[?25hInstalling collected packages: pefile\n",
            "Successfully installed pefile-2024.8.26\n"
          ]
        }
      ]
    },
    {
      "cell_type": "code",
      "execution_count": 3,
      "metadata": {
        "id": "ArHsC5fnn2Vh"
      },
      "outputs": [],
      "source": [
        "import pefile"
      ]
    },
    {
      "cell_type": "code",
      "source": [
        "pe = pefile.PE(\"convert.exe\", fast_load=True)\n",
        "pe2 = pefile.PE(\"_isdel.exe\")"
      ],
      "metadata": {
        "id": "AH2cschB9_xz"
      },
      "execution_count": null,
      "outputs": []
    },
    {
      "cell_type": "code",
      "source": [
        "pe.FILE_HEADER.dump()"
      ],
      "metadata": {
        "colab": {
          "base_uri": "https://localhost:8080/"
        },
        "id": "S1iBDs_tKDh8",
        "outputId": "db416722-52df-4094-cd29-dcc59cf97fb1"
      },
      "execution_count": null,
      "outputs": [
        {
          "output_type": "execute_result",
          "data": {
            "text/plain": [
              "['[IMAGE_FILE_HEADER]',\n",
              " '0xF4       0x0   Machine:                       0x14C     ',\n",
              " '0xF6       0x2   NumberOfSections:              0x5       ',\n",
              " '0xF8       0x4   TimeDateStamp:                 0x146469C7F [Wed Jun 19 11:33:19 2143 UTC]',\n",
              " '0xFC       0x8   PointerToSymbolTable:          0x0       ',\n",
              " '0x100      0xC   NumberOfSymbols:               0x0       ',\n",
              " '0x104      0x10  SizeOfOptionalHeader:          0xE0      ',\n",
              " '0x106      0x12  Characteristics:               0x102     ']"
            ]
          },
          "metadata": {},
          "execution_count": 82
        }
      ]
    },
    {
      "cell_type": "code",
      "source": [
        "arquivos_file =pe2.FILE_HEADER.dump()"
      ],
      "metadata": {
        "id": "ydytdaQE-ngm"
      },
      "execution_count": null,
      "outputs": []
    },
    {
      "cell_type": "code",
      "source": [
        "arquivos_file"
      ],
      "metadata": {
        "colab": {
          "base_uri": "https://localhost:8080/"
        },
        "id": "zFYG1brIFoYH",
        "outputId": "52440dfb-5eb8-4530-fedd-bcdf75e2761a"
      },
      "execution_count": null,
      "outputs": [
        {
          "output_type": "execute_result",
          "data": {
            "text/plain": [
              "['[IMAGE_FILE_HEADER]',\n",
              " '0xCC       0x0   Machine:                       0x14C     ',\n",
              " '0xCE       0x2   NumberOfSections:              0x4       ',\n",
              " '0xD0       0x4   TimeDateStamp:                 0x363619C9 [Tue Oct 27 19:06:49 1998 UTC]',\n",
              " '0xD4       0x8   PointerToSymbolTable:          0x0       ',\n",
              " '0xD8       0xC   NumberOfSymbols:               0x0       ',\n",
              " '0xDC       0x10  SizeOfOptionalHeader:          0xE0      ',\n",
              " '0xDE       0x12  Characteristics:               0x10F     ']"
            ]
          },
          "metadata": {},
          "execution_count": 58
        }
      ]
    },
    {
      "cell_type": "code",
      "source": [
        "arquivos_file[3]"
      ],
      "metadata": {
        "colab": {
          "base_uri": "https://localhost:8080/",
          "height": 35
        },
        "id": "w1tRsOeSF4X-",
        "outputId": "484c9cf1-1a3b-47f4-8e88-dbc78e23a787"
      },
      "execution_count": null,
      "outputs": [
        {
          "output_type": "execute_result",
          "data": {
            "text/plain": [
              "'0xD0       0x4   TimeDateStamp:                 0x363619C9 [Tue Oct 27 19:06:49 1998 UTC]'"
            ],
            "application/vnd.google.colaboratory.intrinsic+json": {
              "type": "string"
            }
          },
          "metadata": {},
          "execution_count": 75
        }
      ]
    },
    {
      "cell_type": "code",
      "source": [
        "caracteristicas = pe.FILE_HEADER.Characteristics"
      ],
      "metadata": {
        "id": "FBOm6EGoJok-"
      },
      "execution_count": null,
      "outputs": []
    },
    {
      "cell_type": "code",
      "source": [
        "pe.FILE_HEADER.dump()"
      ],
      "metadata": {
        "colab": {
          "base_uri": "https://localhost:8080/"
        },
        "id": "Wxsw4NRKJ2GK",
        "outputId": "da85c4a7-e843-4919-f61b-c8b4115be718"
      },
      "execution_count": null,
      "outputs": [
        {
          "output_type": "execute_result",
          "data": {
            "text/plain": [
              "['[IMAGE_FILE_HEADER]',\n",
              " '0xF4       0x0   Machine:                       0x14C     ',\n",
              " '0xF6       0x2   NumberOfSections:              0x5       ',\n",
              " '0xF8       0x4   TimeDateStamp:                 0x146469C7F [Wed Jun 19 11:33:19 2143 UTC]',\n",
              " '0xFC       0x8   PointerToSymbolTable:          0x0       ',\n",
              " '0x100      0xC   NumberOfSymbols:               0x0       ',\n",
              " '0x104      0x10  SizeOfOptionalHeader:          0xE0      ',\n",
              " '0x106      0x12  Characteristics:               0x102     ']"
            ]
          },
          "metadata": {},
          "execution_count": 79
        }
      ]
    },
    {
      "cell_type": "code",
      "source": [
        "pe.NT_HEADERS"
      ],
      "metadata": {
        "colab": {
          "base_uri": "https://localhost:8080/"
        },
        "id": "nxFRmQxBErkX",
        "outputId": "db2797b5-d7e1-4f04-8343-dc640f48f099"
      },
      "execution_count": null,
      "outputs": [
        {
          "output_type": "execute_result",
          "data": {
            "text/plain": [
              "<Structure: [IMAGE_NT_HEADERS] 0xF0 0x0 Signature: 0x4550>"
            ]
          },
          "metadata": {},
          "execution_count": 46
        }
      ]
    },
    {
      "cell_type": "code",
      "source": [
        "for section in pe.sections:\n",
        "    print(section)"
      ],
      "metadata": {
        "colab": {
          "base_uri": "https://localhost:8080/"
        },
        "id": "OdeYm0PXGWlU",
        "outputId": "a0fe3533-f672-4d30-e475-7dfcea414f59"
      },
      "execution_count": null,
      "outputs": [
        {
          "output_type": "stream",
          "name": "stdout",
          "text": [
            "[IMAGE_SECTION_HEADER]\n",
            "0x1E8      0x0   Name:                          .text\n",
            "0x1F0      0x8   Misc:                          0x270C    \n",
            "0x1F0      0x8   Misc_PhysicalAddress:          0x270C    \n",
            "0x1F0      0x8   Misc_VirtualSize:              0x270C    \n",
            "0x1F4      0xC   VirtualAddress:                0x1000    \n",
            "0x1F8      0x10  SizeOfRawData:                 0x2800    \n",
            "0x1FC      0x14  PointerToRawData:              0x400     \n",
            "0x200      0x18  PointerToRelocations:          0x0       \n",
            "0x204      0x1C  PointerToLinenumbers:          0x0       \n",
            "0x208      0x20  NumberOfRelocations:           0x0       \n",
            "0x20A      0x22  NumberOfLinenumbers:           0x0       \n",
            "0x20C      0x24  Characteristics:               0x60000020\n",
            "[IMAGE_SECTION_HEADER]\n",
            "0x210      0x0   Name:                          .data\n",
            "0x218      0x8   Misc:                          0x37C     \n",
            "0x218      0x8   Misc_PhysicalAddress:          0x37C     \n",
            "0x218      0x8   Misc_VirtualSize:              0x37C     \n",
            "0x21C      0xC   VirtualAddress:                0x4000    \n",
            "0x220      0x10  SizeOfRawData:                 0x200     \n",
            "0x224      0x14  PointerToRawData:              0x2C00    \n",
            "0x228      0x18  PointerToRelocations:          0x0       \n",
            "0x22C      0x1C  PointerToLinenumbers:          0x0       \n",
            "0x230      0x20  NumberOfRelocations:           0x0       \n",
            "0x232      0x22  NumberOfLinenumbers:           0x0       \n",
            "0x234      0x24  Characteristics:               0xC0000040\n",
            "[IMAGE_SECTION_HEADER]\n",
            "0x238      0x0   Name:                          .idata\n",
            "0x240      0x8   Misc:                          0x1006    \n",
            "0x240      0x8   Misc_PhysicalAddress:          0x1006    \n",
            "0x240      0x8   Misc_VirtualSize:              0x1006    \n",
            "0x244      0xC   VirtualAddress:                0x5000    \n",
            "0x248      0x10  SizeOfRawData:                 0x1200    \n",
            "0x24C      0x14  PointerToRawData:              0x2E00    \n",
            "0x250      0x18  PointerToRelocations:          0x0       \n",
            "0x254      0x1C  PointerToLinenumbers:          0x0       \n",
            "0x258      0x20  NumberOfRelocations:           0x0       \n",
            "0x25A      0x22  NumberOfLinenumbers:           0x0       \n",
            "0x25C      0x24  Characteristics:               0x40000040\n",
            "[IMAGE_SECTION_HEADER]\n",
            "0x260      0x0   Name:                          .rsrc\n",
            "0x268      0x8   Misc:                          0x6F8     \n",
            "0x268      0x8   Misc_PhysicalAddress:          0x6F8     \n",
            "0x268      0x8   Misc_VirtualSize:              0x6F8     \n",
            "0x26C      0xC   VirtualAddress:                0x7000    \n",
            "0x270      0x10  SizeOfRawData:                 0x800     \n",
            "0x274      0x14  PointerToRawData:              0x4000    \n",
            "0x278      0x18  PointerToRelocations:          0x0       \n",
            "0x27C      0x1C  PointerToLinenumbers:          0x0       \n",
            "0x280      0x20  NumberOfRelocations:           0x0       \n",
            "0x282      0x22  NumberOfLinenumbers:           0x0       \n",
            "0x284      0x24  Characteristics:               0x40000040\n",
            "[IMAGE_SECTION_HEADER]\n",
            "0x288      0x0   Name:                          .reloc\n",
            "0x290      0x8   Misc:                          0x3DC     \n",
            "0x290      0x8   Misc_PhysicalAddress:          0x3DC     \n",
            "0x290      0x8   Misc_VirtualSize:              0x3DC     \n",
            "0x294      0xC   VirtualAddress:                0x8000    \n",
            "0x298      0x10  SizeOfRawData:                 0x400     \n",
            "0x29C      0x14  PointerToRawData:              0x4800    \n",
            "0x2A0      0x18  PointerToRelocations:          0x0       \n",
            "0x2A4      0x1C  PointerToLinenumbers:          0x0       \n",
            "0x2A8      0x20  NumberOfRelocations:           0x0       \n",
            "0x2AA      0x22  NumberOfLinenumbers:           0x0       \n",
            "0x2AC      0x24  Characteristics:               0x42000040\n"
          ]
        }
      ]
    },
    {
      "cell_type": "code",
      "source": [
        "pe.sections[0].dump()"
      ],
      "metadata": {
        "colab": {
          "base_uri": "https://localhost:8080/"
        },
        "id": "4lS4S8EHI982",
        "outputId": "09e050a5-5fd3-451c-a1b2-c654ed7d6a81"
      },
      "execution_count": null,
      "outputs": [
        {
          "output_type": "execute_result",
          "data": {
            "text/plain": [
              "['[IMAGE_SECTION_HEADER]',\n",
              " '0x1E8      0x0   Name:                          .text',\n",
              " '0x1F0      0x8   Misc:                          0x270C    ',\n",
              " '0x1F0      0x8   Misc_PhysicalAddress:          0x270C    ',\n",
              " '0x1F0      0x8   Misc_VirtualSize:              0x270C    ',\n",
              " '0x1F4      0xC   VirtualAddress:                0x1000    ',\n",
              " '0x1F8      0x10  SizeOfRawData:                 0x2800    ',\n",
              " '0x1FC      0x14  PointerToRawData:              0x400     ',\n",
              " '0x200      0x18  PointerToRelocations:          0x0       ',\n",
              " '0x204      0x1C  PointerToLinenumbers:          0x0       ',\n",
              " '0x208      0x20  NumberOfRelocations:           0x0       ',\n",
              " '0x20A      0x22  NumberOfLinenumbers:           0x0       ',\n",
              " '0x20C      0x24  Characteristics:               0x60000020']"
            ]
          },
          "metadata": {},
          "execution_count": 70
        }
      ]
    },
    {
      "cell_type": "code",
      "source": [
        "#estrutura\n",
        "#DOS_HEADER\n",
        "#NT_HEADERS\n",
        "#FILE_HEADER\n",
        "#OPTIONAL_HEADER"
      ],
      "metadata": {
        "id": "ffQ2VmfbIHDV"
      },
      "execution_count": null,
      "outputs": []
    },
    {
      "cell_type": "code",
      "source": [
        "#Crie um script que carregue um arquivo.exe\n",
        "#E depois exiba:\n",
        "#Machine\n",
        "#NumberOfSections\n",
        "#AddressOfEntryPoint\n",
        "#Nomes e Tamanhos das seções"
      ],
      "metadata": {
        "id": "700_hImkU8xD"
      },
      "execution_count": null,
      "outputs": []
    },
    {
      "cell_type": "code",
      "source": [
        "def traduzir_hexadecimal(hexadecimal):\n",
        "  return int(hexadecimal, 16)"
      ],
      "metadata": {
        "id": "IpKgacZeF7ND"
      },
      "execution_count": 41,
      "outputs": []
    },
    {
      "cell_type": "code",
      "source": [
        "arquivo_executavel = pefile.PE(\"convert.exe\")\n",
        "arquivo_executavel"
      ],
      "metadata": {
        "colab": {
          "base_uri": "https://localhost:8080/"
        },
        "id": "inkqRiVEE9Z7",
        "outputId": "674c838f-6c4f-4291-e957-bb9bea40add7"
      },
      "execution_count": 5,
      "outputs": [
        {
          "output_type": "execute_result",
          "data": {
            "text/plain": [
              "<pefile.PE at 0x7e72d6495e90>"
            ]
          },
          "metadata": {},
          "execution_count": 5
        }
      ]
    },
    {
      "cell_type": "code",
      "source": [
        "#Endereço de memória\n",
        "traduzir_hexadecimal(\"0x2800\")/8"
      ],
      "metadata": {
        "colab": {
          "base_uri": "https://localhost:8080/"
        },
        "id": "0XGLgqI0F1Wc",
        "outputId": "85463a31-c4c9-4195-c6ce-04211f71e6c8"
      },
      "execution_count": 42,
      "outputs": [
        {
          "output_type": "execute_result",
          "data": {
            "text/plain": [
              "1280.0"
            ]
          },
          "metadata": {},
          "execution_count": 42
        }
      ]
    },
    {
      "cell_type": "code",
      "source": [
        "arquivo_executavel.FILE_HEADER.dump()"
      ],
      "metadata": {
        "colab": {
          "base_uri": "https://localhost:8080/"
        },
        "id": "jmd7S4GvGeK4",
        "outputId": "6ff766e7-9477-4039-9d85-c24f2ef36c82"
      },
      "execution_count": 11,
      "outputs": [
        {
          "output_type": "execute_result",
          "data": {
            "text/plain": [
              "['[IMAGE_FILE_HEADER]',\n",
              " '0xF4       0x0   Machine:                       0x14C     ',\n",
              " '0xF6       0x2   NumberOfSections:              0x5       ',\n",
              " '0xF8       0x4   TimeDateStamp:                 0x419BBB33 [Wed Nov 17 20:57:23 2004 UTC]',\n",
              " '0xFC       0x8   PointerToSymbolTable:          0x0       ',\n",
              " '0x100      0xC   NumberOfSymbols:               0x0       ',\n",
              " '0x104      0x10  SizeOfOptionalHeader:          0xE0      ',\n",
              " '0x106      0x12  Characteristics:               0x102     ']"
            ]
          },
          "metadata": {},
          "execution_count": 11
        }
      ]
    },
    {
      "cell_type": "code",
      "source": [
        "machine = arquivo_executavel.FILE_HEADER.Machine\n",
        "hex(machine)"
      ],
      "metadata": {
        "colab": {
          "base_uri": "https://localhost:8080/",
          "height": 36
        },
        "id": "T-j8wUdeJIhf",
        "outputId": "803a21f0-bdc9-43ef-8a8d-2cc5adfd5e70"
      },
      "execution_count": 29,
      "outputs": [
        {
          "output_type": "execute_result",
          "data": {
            "text/plain": [
              "'0x419bbb33'"
            ],
            "application/vnd.google.colaboratory.intrinsic+json": {
              "type": "string"
            }
          },
          "metadata": {},
          "execution_count": 29
        }
      ]
    },
    {
      "cell_type": "code",
      "source": [
        "NumberOfSections = arquivo_executavel.FILE_HEADER.NumberOfSections\n",
        "NumberOfSections"
      ],
      "metadata": {
        "colab": {
          "base_uri": "https://localhost:8080/"
        },
        "id": "jO4Dm5RYJ1WA",
        "outputId": "4f75b45e-a73c-4329-f8f9-cb5164944711"
      },
      "execution_count": 30,
      "outputs": [
        {
          "output_type": "execute_result",
          "data": {
            "text/plain": [
              "5"
            ]
          },
          "metadata": {},
          "execution_count": 30
        }
      ]
    },
    {
      "cell_type": "code",
      "source": [
        "arquivo_executavel.OPTIONAL_HEADER.dump()"
      ],
      "metadata": {
        "colab": {
          "base_uri": "https://localhost:8080/"
        },
        "id": "HKzjIoaqKB32",
        "outputId": "b8d5487d-9dcb-478a-9c37-a340769cd1c8"
      },
      "execution_count": 31,
      "outputs": [
        {
          "output_type": "execute_result",
          "data": {
            "text/plain": [
              "['[IMAGE_OPTIONAL_HEADER]',\n",
              " '0x108      0x0   Magic:                         0x10B     ',\n",
              " '0x10A      0x2   MajorLinkerVersion:            0xE       ',\n",
              " '0x10B      0x3   MinorLinkerVersion:            0xD       ',\n",
              " '0x10C      0x4   SizeOfCode:                    0x2800    ',\n",
              " '0x110      0x8   SizeOfInitializedData:         0x2200    ',\n",
              " '0x114      0xC   SizeOfUninitializedData:       0x0       ',\n",
              " '0x118      0x10  AddressOfEntryPoint:           0x3360    ',\n",
              " '0x11C      0x14  BaseOfCode:                    0x1000    ',\n",
              " '0x120      0x18  BaseOfData:                    0x4000    ',\n",
              " '0x124      0x1C  ImageBase:                     0x400000  ',\n",
              " '0x128      0x20  SectionAlignment:              0x1000    ',\n",
              " '0x12C      0x24  FileAlignment:                 0x200     ',\n",
              " '0x130      0x28  MajorOperatingSystemVersion:   0xA       ',\n",
              " '0x132      0x2A  MinorOperatingSystemVersion:   0x0       ',\n",
              " '0x134      0x2C  MajorImageVersion:             0xA       ',\n",
              " '0x136      0x2E  MinorImageVersion:             0x0       ',\n",
              " '0x138      0x30  MajorSubsystemVersion:         0xA       ',\n",
              " '0x13A      0x32  MinorSubsystemVersion:         0x0       ',\n",
              " '0x13C      0x34  Reserved1:                     0x0       ',\n",
              " '0x140      0x38  SizeOfImage:                   0x9000    ',\n",
              " '0x144      0x3C  SizeOfHeaders:                 0x400     ',\n",
              " '0x148      0x40  CheckSum:                      0x9952    ',\n",
              " '0x14C      0x44  Subsystem:                     0x3       ',\n",
              " '0x14E      0x46  DllCharacteristics:            0xC140    ',\n",
              " '0x150      0x48  SizeOfStackReserve:            0x40000   ',\n",
              " '0x154      0x4C  SizeOfStackCommit:             0x2000    ',\n",
              " '0x158      0x50  SizeOfHeapReserve:             0x100000  ',\n",
              " '0x15C      0x54  SizeOfHeapCommit:              0x1000    ',\n",
              " '0x160      0x58  LoaderFlags:                   0x0       ',\n",
              " '0x164      0x5C  NumberOfRvaAndSizes:           0x10      ']"
            ]
          },
          "metadata": {},
          "execution_count": 31
        }
      ]
    },
    {
      "cell_type": "code",
      "source": [
        "arquivo_executavel.OPTIONAL_HEADER.AddressOfEntryPoint"
      ],
      "metadata": {
        "colab": {
          "base_uri": "https://localhost:8080/"
        },
        "id": "rgWrAJhNLs7I",
        "outputId": "3805ae5f-fa4b-43e6-a4ed-6b2dcd6f2039"
      },
      "execution_count": 47,
      "outputs": [
        {
          "output_type": "execute_result",
          "data": {
            "text/plain": [
              "13152"
            ]
          },
          "metadata": {},
          "execution_count": 47
        }
      ]
    },
    {
      "cell_type": "code",
      "source": [
        "numero_secoes = arquivo_executavel.FILE_HEADER.NumberOfSections\n",
        "print(f\"Número de seções: {numero_secoes}\")\n",
        "print(\"-------------------------------------------------------------\")\n",
        "for i in range(0, numero_secoes):\n",
        " print(arquivo_executavel.sections[i])\n",
        " print(f\"\\nInformações desejadas nome={arquivo_executavel.sections[i].Name} e tamanho={arquivo_executavel.sections[i].Misc_VirtualSize}bytes\")\n",
        " print(\"-------------------------------------------------------------\")"
      ],
      "metadata": {
        "colab": {
          "base_uri": "https://localhost:8080/"
        },
        "id": "wDYenmPAM0cU",
        "outputId": "e6ef6e19-56b7-4f83-afa9-d2db05b9e3d6"
      },
      "execution_count": 66,
      "outputs": [
        {
          "output_type": "stream",
          "name": "stdout",
          "text": [
            "Número de seções: 5\n",
            "-------------------------------------------------------------\n",
            "[IMAGE_SECTION_HEADER]\n",
            "0x1E8      0x0   Name:                          .text\n",
            "0x1F0      0x8   Misc:                          0x270C    \n",
            "0x1F0      0x8   Misc_PhysicalAddress:          0x270C    \n",
            "0x1F0      0x8   Misc_VirtualSize:              0x270C    \n",
            "0x1F4      0xC   VirtualAddress:                0x1000    \n",
            "0x1F8      0x10  SizeOfRawData:                 0x2800    \n",
            "0x1FC      0x14  PointerToRawData:              0x400     \n",
            "0x200      0x18  PointerToRelocations:          0x0       \n",
            "0x204      0x1C  PointerToLinenumbers:          0x0       \n",
            "0x208      0x20  NumberOfRelocations:           0x0       \n",
            "0x20A      0x22  NumberOfLinenumbers:           0x0       \n",
            "0x20C      0x24  Characteristics:               0x60000020\n",
            "\n",
            "Informações desejadas nome=b'.text\\x00\\x00\\x00' e tamanho=9996bytes\n",
            "-------------------------------------------------------------\n",
            "[IMAGE_SECTION_HEADER]\n",
            "0x210      0x0   Name:                          .data\n",
            "0x218      0x8   Misc:                          0x37C     \n",
            "0x218      0x8   Misc_PhysicalAddress:          0x37C     \n",
            "0x218      0x8   Misc_VirtualSize:              0x37C     \n",
            "0x21C      0xC   VirtualAddress:                0x4000    \n",
            "0x220      0x10  SizeOfRawData:                 0x200     \n",
            "0x224      0x14  PointerToRawData:              0x2C00    \n",
            "0x228      0x18  PointerToRelocations:          0x0       \n",
            "0x22C      0x1C  PointerToLinenumbers:          0x0       \n",
            "0x230      0x20  NumberOfRelocations:           0x0       \n",
            "0x232      0x22  NumberOfLinenumbers:           0x0       \n",
            "0x234      0x24  Characteristics:               0xC0000040\n",
            "\n",
            "Informações desejadas nome=b'.data\\x00\\x00\\x00' e tamanho=892bytes\n",
            "-------------------------------------------------------------\n",
            "[IMAGE_SECTION_HEADER]\n",
            "0x238      0x0   Name:                          .idata\n",
            "0x240      0x8   Misc:                          0x1006    \n",
            "0x240      0x8   Misc_PhysicalAddress:          0x1006    \n",
            "0x240      0x8   Misc_VirtualSize:              0x1006    \n",
            "0x244      0xC   VirtualAddress:                0x5000    \n",
            "0x248      0x10  SizeOfRawData:                 0x1200    \n",
            "0x24C      0x14  PointerToRawData:              0x2E00    \n",
            "0x250      0x18  PointerToRelocations:          0x0       \n",
            "0x254      0x1C  PointerToLinenumbers:          0x0       \n",
            "0x258      0x20  NumberOfRelocations:           0x0       \n",
            "0x25A      0x22  NumberOfLinenumbers:           0x0       \n",
            "0x25C      0x24  Characteristics:               0x40000040\n",
            "\n",
            "Informações desejadas nome=b'.idata\\x00\\x00' e tamanho=4102bytes\n",
            "-------------------------------------------------------------\n",
            "[IMAGE_SECTION_HEADER]\n",
            "0x260      0x0   Name:                          .rsrc\n",
            "0x268      0x8   Misc:                          0x6F8     \n",
            "0x268      0x8   Misc_PhysicalAddress:          0x6F8     \n",
            "0x268      0x8   Misc_VirtualSize:              0x6F8     \n",
            "0x26C      0xC   VirtualAddress:                0x7000    \n",
            "0x270      0x10  SizeOfRawData:                 0x800     \n",
            "0x274      0x14  PointerToRawData:              0x4000    \n",
            "0x278      0x18  PointerToRelocations:          0x0       \n",
            "0x27C      0x1C  PointerToLinenumbers:          0x0       \n",
            "0x280      0x20  NumberOfRelocations:           0x0       \n",
            "0x282      0x22  NumberOfLinenumbers:           0x0       \n",
            "0x284      0x24  Characteristics:               0x40000040\n",
            "\n",
            "Informações desejadas nome=b'.rsrc\\x00\\x00\\x00' e tamanho=1784bytes\n",
            "-------------------------------------------------------------\n",
            "[IMAGE_SECTION_HEADER]\n",
            "0x288      0x0   Name:                          .reloc\n",
            "0x290      0x8   Misc:                          0x3DC     \n",
            "0x290      0x8   Misc_PhysicalAddress:          0x3DC     \n",
            "0x290      0x8   Misc_VirtualSize:              0x3DC     \n",
            "0x294      0xC   VirtualAddress:                0x8000    \n",
            "0x298      0x10  SizeOfRawData:                 0x400     \n",
            "0x29C      0x14  PointerToRawData:              0x4800    \n",
            "0x2A0      0x18  PointerToRelocations:          0x0       \n",
            "0x2A4      0x1C  PointerToLinenumbers:          0x0       \n",
            "0x2A8      0x20  NumberOfRelocations:           0x0       \n",
            "0x2AA      0x22  NumberOfLinenumbers:           0x0       \n",
            "0x2AC      0x24  Characteristics:               0x42000040\n",
            "\n",
            "Informações desejadas nome=b'.reloc\\x00\\x00' e tamanho=988bytes\n",
            "-------------------------------------------------------------\n"
          ]
        }
      ]
    },
    {
      "cell_type": "code",
      "source": [
        "text_section = arquivo_executavel.sections[0]\n",
        "conteudo_bruto = text_section.get_data()\n",
        "conteudo_bruto"
      ],
      "metadata": {
        "colab": {
          "base_uri": "https://localhost:8080/"
        },
        "id": "6oOaR0YRW7ZK",
        "outputId": "36c31571-c258-4a02-ed53-3c2ad6d433ed"
      },
      "execution_count": 84,
      "outputs": [
        {
          "output_type": "execute_result",
          "data": {
            "text/plain": [
              "b'\\x18@@\\x00h@@\\x00P\\x16@\\x00\\x000@\\x00\\xf0/@\\x00\\x900@\\x00\\x800@\\x00p0@\\x00`0@\\x00P0@\\x00@0@\\x0000@\\x00 0@\\x00\\x100@\\x00\\xa4\\x00\\x00\\x00\\x00\\x00\\x00\\x00\\x00\\x00\\x00\\x00\\x00\\x00\\x00\\x00\\x00\\x00\\x00\\x00\\x00\\x00\\x00\\x00\\x00\\x00\\x00\\x00\\x00\\x00\\x00\\x00\\x00\\x00\\x00\\x00\\x00\\x00\\x00\\x00\\x00\\x00\\x00\\x00\\x00\\x00\\x00\\x00\\x00\\x00\\x00\\x00\\x00\\x00\\x00\\x00\\x00\\x00\\x00\\x00\\x00@@\\x00\\xf0\\x12@\\x00\\x01\\x00\\x00\\x00\\x88Q@\\x00\\x00\\x00\\x00\\x00\\xf8\\x10@\\x00\\x15\\x00\\x00\\x00\\x00u\\x01\\x00\\x00\\x00\\x00\\x00\\x00\\x00\\x00\\x00\\x00\\x00\\x00\\x00\\x00\\x00\\x00\\x00\\x00\\x00\\x00\\x00\\x00\\x00\\x00\\x00\\x00\\x00\\x00\\x00\\x00\\x00\\x00\\x00\\x00\\x00\\x00\\x00\\x00\\x00\\x00\\x00\\x00\\x00\\x00\\x00\\x00\\x00\\x00\\x00\\x00\\x00\\x00\\x00\\x00\\x00\\x00\\x00\\x00\\x00\\x00\\x00\\x00\\x00\\x00\\x00\\x00\\x00\\x00\\x00\\x00\\x00\\x00\\x00\\x00\\x00\\x00\\x00 1@\\x00\\x00\\x00\\x00\\x00\\x00\\x00\\x00\\x00\\xb00@\\x00\\xe03@\\x00\\x00\\x00\\x00\\x00P\\x16\\x00\\x00\\xe0-\\x00\\x00\\xf0/\\x00\\x00\\x000\\x00\\x00\\x100\\x00\\x00 0\\x00\\x0000\\x00\\x00@0\\x00\\x00P0\\x00\\x00`0\\x00\\x00p0\\x00\\x00\\x800\\x00\\x00\\x900\\x00\\x00\\xb00\\x00\\x00 1\\x00\\x00`3\\x00\\x00\\x903\\x00\\x00\\xe03\\x00\\x00\\xa04\\x00\\x00p6\\x00\\x00\\xa06\\x00\\x00\\x00\\x00\\x00\\x00\\x00\\x00\\x00\\x00%W\\x00\\x00%W%W\\x00\\x00\\x00\\x00FAT\\x00FAT32\\x00\\x00\\x00CNVFAT\\x00\\x00IsConversionAvailable\\x00\\x00\\x00CONVERT\\x00%s%W\\x00\\x00\\x00\\x00ConvertFAT\\x00\\x00%d\\x00\\x00*\\x00\\x00\\x00/?\\x00\\x00/V\\x00\\x00/NoSecurity\\x00/NoChkdsk\\x00\\x00\\x00/X\\x00\\x00/FS:*\\x00\\x00\\x00/CVTAREA:*\\x00\\x00\\x00\\x00\\x00\\x00a\\x00u\\x00t\\x00o\\x00c\\x00h\\x00e\\x00c\\x00k\\x00 \\x00a\\x00u\\x00t\\x00o\\x00c\\x00o\\x00n\\x00v\\x00 \\x00\\x00\\x00 \\x00\\x00\\x00/\\x00F\\x00S\\x00:\\x00\\x00\\x00\\x00\\x00/\\x00C\\x00V\\x00T\\x00A\\x00R\\x00E\\x00A\\x00:\\x00\\x00\\x00/\\x00N\\x00o\\x00C\\x00h\\x00k\\x00d\\x00s\\x00k\\x00\\x00\\x00/\\x00V\\x00\\x00\\x00\\x00\\x00/\\x00N\\x00o\\x00S\\x00e\\x00c\\x00u\\x00r\\x00i\\x00t\\x00y\\x00\\x00\\x00A\\x00U\\x00T\\x00O\\x00C\\x00O\\x00N\\x00V\\x00.\\x00E\\x00X\\x00E\\x00\\x00\\x00\\x00\\x00\\x00\\x00\\x00\\x00\\x00\\x00\\x00\\x00\\x00\\x00\\x00\\x003\\xbb\\x9bA\\x00\\x00\\x00\\x00\\x02\\x00\\x00\\x00$\\x00\\x00\\x00\\xf4\\x12\\x00\\x00\\xf4\\x06\\x00\\x00\\x00\\x00\\x00\\x003\\xbb\\x9bA\\x00\\x00\\x00\\x00\\r\\x00\\x00\\x00\\xd8\\x01\\x00\\x00\\x18\\x13\\x00\\x00\\x18\\x07\\x00\\x00\\x00\\x00\\x00\\x003\\xbb\\x9bA\\x00\\x00\\x00\\x00\\x10\\x00\\x00\\x00\\x00\\x00\\x00\\x00\\x00\\x00\\x00\\x00\\x00\\x00\\x00\\x00\\x00\\x00\\x00\\x00\\x00\\x00\\x00\\x00\\x00\\x00\\x00\\x00p6\\x00\\x00RSDS\\x7fR\\xeb&\\xd5\\r2M\\xff\\xb7$XaW\\xf5\\x8b\\x01\\x00\\x00\\x00convert.pdb\\x00GCTL\\x00\\x10\\x00\\x00\\xdc\\x00\\x00\\x00.rdata$brc\\x00\\x00\\xdc\\x10\\x00\\x00\\x04\\x00\\x00\\x00.CRT$XCA\\x00\\x00\\x00\\x00\\xe0\\x10\\x00\\x00\\x04\\x00\\x00\\x00.CRT$XCAA\\x00\\x00\\x00\\xe4\\x10\\x00\\x00\\x04\\x00\\x00\\x00.CRT$XCZ\\x00\\x00\\x00\\x00\\xe8\\x10\\x00\\x00\\x04\\x00\\x00\\x00.CRT$XIA\\x00\\x00\\x00\\x00\\xec\\x10\\x00\\x00\\x04\\x00\\x00\\x00.CRT$XIAA\\x00\\x00\\x00\\xf0\\x10\\x00\\x00\\x04\\x00\\x00\\x00.CRT$XIY\\x00\\x00\\x00\\x00\\xf4\\x10\\x00\\x00\\x04\\x00\\x00\\x00.CRT$XIZ\\x00\\x00\\x00\\x00\\xf8\\x10\\x00\\x00X\\x00\\x00\\x00.gfids\\x00\\x00P\\x11\\x00\\x00\\xa0\\x01\\x00\\x00.rdata\\x00\\x00\\xf0\\x12\\x00\\x00\\x04\\x00\\x00\\x00.rdata$sxdata\\x00\\x00\\x00\\xf4\\x12\\x00\\x00\\xfc\\x01\\x00\\x00.rdata$zzzdbg\\x00\\x00\\x00\\xf0\\x14\\x00\\x00\\xc0!\\x00\\x00.text$mn\\x00\\x00\\x00\\x00\\xb06\\x00\\x00\\\\\\x00\\x00\\x00.xdata$x\\x00\\x00\\x00\\x00\\x00@\\x00\\x00\\x18\\x00\\x00\\x00.data\\x00\\x00\\x00\\x18@\\x00\\x00d\\x03\\x00\\x00.bss\\x00\\x00\\x00\\x00\\x00P\\x00\\x00\\x88\\x01\\x00\\x00.idata$5\\x00\\x00\\x00\\x00\\x88Q\\x00\\x00\\x04\\x00\\x00\\x00.00cfg\\x00\\x00\\x8cQ\\x00\\x00\\x8c\\x00\\x00\\x00.idata$2\\x00\\x00\\x00\\x00\\x18R\\x00\\x00\\x14\\x00\\x00\\x00.idata$3\\x00\\x00\\x00\\x00,R\\x00\\x00\\x88\\x01\\x00\\x00.idata$4\\x00\\x00\\x00\\x00\\xb4S\\x00\\x00R\\x0c\\x00\\x00.idata$6\\x00\\x00\\x00\\x00\\x00p\\x00\\x00\\xa0\\x00\\x00\\x00.rsrc$01\\x00\\x00\\x00\\x00\\xa0p\\x00\\x00X\\x06\\x00\\x00.rsrc$02\\x00\\x00\\x00\\x00\\x8b\\xffU\\x8b\\xec\\x83\\xe4\\xf8\\x81\\xec\\x88\\x03\\x00\\x00\\xa1\\x00@@\\x003\\xc4\\x89\\x84$\\x84\\x03\\x00\\x00SVj\\x04^3\\xdb\\x89t$\\x0cSSj\\x01S\\xff\\x15$P@\\x00d\\xa10\\x00\\x00\\x00VS\\xffp\\x18\\xff\\x15\\x98P@\\x00\\x85\\xc0t\\n\\x8b\\xc8\\xff\\x15\\x08Q@\\x00\\xeb\\x02\\x8b\\xc3\\xa3dC@\\x00\\x85\\xc0t\\tS\\x8b\\xc8\\xff\\x15\\x0cQ@\\x00\\x8dL$\\x10\\xe8e\\x00\\x00\\x00\\x8dL$\\x10\\xe8\\x19\\x01\\x00\\x00j\\x01h1u\\x00\\x00h\\x94u\\x00\\x00\\x8dL$\\x1c\\xff\\x15\\x10Q@\\x00\\x84\\xc0t\\x14\\x8dD$\\x0cP\\x8dL$\\x14\\xe8U\\r\\x00\\x00\\x8bt$\\x0c\\x8a\\xd8\\x84\\xdbt\\x0b\\x8dL$\\x10\\xe8\\x9c\\x01\\x00\\x00\\x8b\\xf0\\x8dL$\\x10\\xe8$\\x01\\x00\\x00\\x8b\\x8c$\\x8c\\x03\\x00\\x00\\x8b\\xc6^[3\\xcc\\xe8!\\x18\\x00\\x00\\x8b\\xe5]\\xc3\\x8b\\xffV\\x8b\\xf1\\xff\\x15LQ@\\x00\\x8d\\x8e\\x88\\x00\\x00\\x00\\xc7\\x06\\x08\\x10@\\x00\\xff\\x15(Q@\\x00\\x8d\\x8e\\xa0\\x00\\x00\\x00\\xff\\x15(Q@\\x00\\x8d\\x8e\\xb8\\x00\\x00\\x00\\xff\\x15(Q@\\x00\\x8d\\x8e\\xd0\\x00\\x00\\x00\\xff\\x15\\xf4P@\\x00\\x8d\\x8e\\x14\\x03\\x00\\x00\\xff\\x15(Q@\\x00\\x8d\\x8e,\\x03\\x00\\x00\\xff\\x15(Q@\\x00\\x8d\\x8eD\\x03\\x00\\x00\\xff\\x15(Q@\\x00\\xa1dC@\\x00\\x83\\xa6p\\x03\\x00\\x00\\x00\\x83\\xa6t\\x03\\x00\\x00\\x00\\x89F\\x04\\x8b\\xc6^\\xc3\\xcc\\xcc\\xcc\\xcc\\xcc\\xcc\\xcc\\xcc\\xcc\\xcc\\xcc\\xcc\\xcc\\xcc\\x8b\\xffU\\x8b\\xecV\\x8b\\xf1\\xe8t\\x00\\x00\\x00\\xf6E\\x08\\x01t\\x16\\x85\\xf6t\\x12d\\xa10\\x00\\x00\\x00Vj\\x00\\xffp\\x18\\xff\\x15\\x94P@\\x00\\x8b\\xc6^]\\xc2\\x04\\x00\\x8b\\xffSVW\\x8b\\xf9\\x8b\\x9fp\\x03\\x00\\x00\\x85\\xdbt\\x12\\x8b\\x03j\\x01\\x8b0\\x8b\\xce\\xff\\x15\\x88Q@\\x00\\x8b\\xcb\\xff\\xd6\\x83\\xa7p\\x03\\x00\\x00\\x00\\x8b\\x9ft\\x03\\x00\\x00\\x85\\xdbt\\x12\\x8b\\x03j\\x01\\x8b0\\x8b\\xce\\xff\\x15\\x88Q@\\x00\\x8b\\xcb\\xff\\xd6\\x83\\xa7t\\x03\\x00\\x00\\x00_^[\\xc3\\x8b\\xffV\\x8b\\xf1\\xc7\\x06\\x08\\x10@\\x00\\xe8\\x9f\\xff\\xff\\xff\\x8d\\x8eD\\x03\\x00\\x00\\xff\\x15\\x80Q@\\x00\\x8d\\x8e,\\x03\\x00\\x00\\xff\\x15\\x80Q@\\x00\\x8d\\x8e\\x14\\x03\\x00\\x00\\xff\\x15\\x80Q@\\x00\\x8d\\x8e\\xd0\\x00\\x00\\x00\\xff\\x15\\xfcP@\\x00\\x8d\\x8e\\xb8\\x00\\x00\\x00\\xff\\x15\\x80Q@\\x00\\x8d\\x8e\\xa0\\x00\\x00\\x00\\xff\\x15\\x80Q@\\x00\\x8d\\x8e\\x88\\x00\\x00\\x00\\xff\\x15\\x80Q@\\x00\\x8b\\xce^\\xff%\\x14Q@\\x00\\x8b\\xffU\\x8b\\xec\\x81\\xec|\\x04\\x00\\x00\\xa1\\x00@@\\x003\\xc5\\x89E\\xfcSVW\\x8b\\xf9\\x8d\\x8dD\\xfc\\xff\\xff\\x89\\xbd\\x84\\xfc\\xff\\xff\\xff\\x15(Q@\\x00\\x8d\\x8d\\xf0\\xfb\\xff\\xff\\xff\\x15(Q@\\x00\\x8d\\x8d \\xfc\\xff\\xff\\xff\\x15(Q@\\x00\\x8d\\x8d\\xa8\\xfb\\xff\\xff\\xff\\x15(Q@\\x00\\x8d\\x8d\\xc0\\xfb\\xff\\xff\\xff\\x15(Q@\\x00\\x8d\\x8d\\x88\\xfb\\xff\\xff\\xff\\x15(Q@\\x00\\x8d\\x8d\\x08\\xfc\\xff\\xff\\xff\\x15(Q@\\x00\\x8d\\x8d\\xd8\\xfb\\xff\\xff\\xff\\x15(Q@\\x003\\xdb\\x8d\\x8d\\xb0\\xfd\\xff\\xff\\x89\\x9d\\x80\\xfc\\xff\\xff\\xff\\x15\\xf4P@\\x00\\x8d\\x85\\x7f\\xfc\\xff\\xff\\x88\\x9d\\x7f\\xfc\\xff\\xffP\\x8d\\xb7\\x14\\x03\\x00\\x00V\\xff\\x15\\x14P@\\x00\\x84\\xc0t\\x0cj\\x01h\\xd8u\\x00\\x00\\xe95\\t\\x00\\x00S\\x8d\\x85@\\xfc\\xff\\xffP\\x8d\\x85D\\xfc\\xff\\xffPV\\xff\\x15\\x00P@\\x00\\x84\\xc0uP\\x81\\xbd@\\xfc\\xff\\xff\"\\x00\\x00\\xc0\\x8b7u\\x1a\\x8bN\\x10j\\x01h\\xd5\\x0b\\x00\\x00\\xff\\x15\\x88Q@\\x00\\x8b\\xcf\\xffV\\x10\\xe9\\x04\\t\\x00\\x00\\x8bN\\x0c\\x8d\\x87\\x88\\x00\\x00\\x00PhT\\x11@\\x00j\\x01h\\xcb\\x0b\\x00\\x00W\\xff\\x15\\x88Q@\\x00\\xffV\\x0c\\x83\\xc4\\x14\\xe9\\xdc\\x08\\x00\\x00\\x8d\\x8dD\\xfc\\xff\\xff\\xff\\x15\\xb4P@\\x00\\x8d\\xb7,\\x03\\x00\\x00\\x8b\\xce\\xff\\x15\\xb4P@\\x00V\\x8d\\x8dD\\xfc\\xff\\xff\\xff\\x15|Q@\\x00\\x84\\xc0t1\\x8d\\x87,\\x03\\x00\\x00P\\x8d\\x87\\x88\\x00\\x00\\x00PhX\\x11@\\x00j\\x01h\\xa1u\\x00\\x00\\x8b7W\\x8bN\\x0c\\xff\\x15\\x88Q@\\x00\\xffV\\x0c\\x83\\xc4\\x18\\xe9\\x80\\x08\\x00\\x00j\\xffh`\\x11@\\x00\\x8d\\x8d\\xa8\\xfb\\xff\\xff\\xff\\x15\\xacP@\\x00\\x84\\xc0\\x0f\\x84M\\x08\\x00\\x00j\\xffhd\\x11@\\x00\\x8d\\x8d\\xc0\\xfb\\xff\\xff\\xff\\x15\\xacP@\\x00\\x84\\xc0\\x0f\\x842\\x08\\x00\\x00\\x8d\\x85\\xa8\\xfb\\xff\\xffP\\x8d\\x8dD\\xfc\\xff\\xff\\xff\\x15|Q@\\x00\\x84\\xc0u\\x17\\x8d\\x85\\xc0\\xfb\\xff\\xffP\\x8d\\x8dD\\xfc\\xff\\xff\\xff\\x15|Q@\\x00\\x84\\xc0t[j\\xffhl\\x11@\\x00\\x8d\\x8d\\xf0\\xfb\\xff\\xff\\xff\\x15\\xacP@\\x00\\x84\\xc0\\x0f\\x84\\xe9\\x07\\x00\\x00j\\xffht\\x11@\\x00\\x8d\\x8d \\xfc\\xff\\xff\\xff\\x15\\xacP@\\x00\\x84\\xc0\\x0f\\x84\\xce\\x07\\x00\\x00\\x8d\\x85x\\xfc\\xff\\xffP\\x8d\\x85 \\xfc\\xff\\xffP\\x8d\\x85\\xf0\\xfb\\xff\\xffP\\xff\\x15\\xd8P@\\x00\\x89\\x85\\x88\\xfc\\xff\\xff\\x85\\xc0u\\x1d\\x8d\\x85D\\xfc\\xff\\xffPh\\x8c\\x11@\\x00h\\x94\\x11@\\x00j\\x01h\\xca\\x0b\\x00\\x00\\xe9\\r\\xff\\xff\\xffV\\x8b\\xc8\\xff\\x15\\x88Q@\\x00\\xff\\x95\\x88\\xfc\\xff\\xff\\x83\\xf8\\xff\\x8d\\x8dD\\xfc\\xff\\xff\\x8b\\x07\\x8b@\\x0c\\x89\\x85\\x88\\xfc\\xff\\xffu\"VQhX\\x11@\\x00j\\x01h\\x9au\\x00\\x00W\\x8b\\xc8\\xff\\x15\\x88Q@\\x00\\xff\\x95\\x88\\xfc\\xff\\xff\\xe9\\xd5\\xfe\\xff\\xffQhT\\x11@\\x00Sh\\xc7\\x0b\\x00\\x00W\\x8b\\xc8\\xff\\x15\\x88Q@\\x00\\xff\\x95\\x88\\xfc\\xff\\xff\\x83\\xc4\\x14\\x8d\\x8d \\xfc\\xff\\xffj\\xffh\\x9c\\x11@\\x00\\xff\\x15\\xacP@\\x00\\x84\\xc0\\x0f\\x84\\x0c\\x07\\x00\\x00\\x8d\\x85x\\xfc\\xff\\xffP\\x8d\\x85 \\xfc\\xff\\xffP\\x8d\\x85\\xf0\\xfb\\xff\\xffP\\xff\\x15\\xd8P@\\x00\\x89\\x858\\xfc\\xff\\xff\\x85\\xc0\\x0f\\x84:\\xff\\xff\\xffj\\x01\\xff\\x15\\x1cP@\\x00\\x8d\\xb7\\xa0\\x00\\x00\\x00\\x89\\x85\\x88\\xfc\\xff\\xffV\\xff\\x15\\xd0P@\\x00j\\xffhP\\x11@\\x00\\x8d\\x8d\\xd8\\xfb\\xff\\xff\\x89\\x85<\\xfc\\xff\\xff\\xff\\x15\\xacP@\\x00j\\x02[\\x84\\xc0\\x0f\\x84\\x06\\x01\\x00\\x00\\x83\\xbd<\\xfc\\xff\\xff\\x01\\x0f\\x84\\xf9\\x00\\x00\\x00j\\x00V\\x8d\\x8d\\xb0\\xfd\\xff\\xff\\xff\\x15\\xf8P@\\x00\\x84\\xc0\\x0f\\x84\\xe2\\x00\\x00\\x00\\x8d\\x85\\xa0\\xfb\\xff\\xffP\\x8d\\x85\\xb0\\xfd\\xff\\xffP\\xff\\x15\\xd4P@\\x00\\x89\\x85\\x80\\xfc\\xff\\xff\\x85\\xc0\\x0f\\x84\\xc0\\x00\\x00\\x00\\x8d\\x8d\\xd8\\xfb\\xff\\xffQ\\x8b\\xc8\\xff\\x15\\xb8P@\\x00\\x85\\xc0\\x0f\\x84\\xa9\\x00\\x00\\x00\\x8b7\\x8d\\x87\\x88\\x00\\x00\\x00PhT\\x11@\\x00j\\x00\\x8bN\\x0ch\\xe5\\x07\\x00\\x00W\\xff\\x15\\x88Q@\\x00\\xffV\\x0c\\x8bG\\x08\\x8d\\x8d\\x08\\xfc\\xff\\xff\\x83\\xc4\\x14\\x8bp\\x1cQ\\x8b\\xce\\xff\\x15\\x88Q@\\x00\\x8dO\\x08\\xff\\xd6\\xff\\xb5\\x14\\xfc\\xff\\xff\\x8b\\x85\\x80\\xfc\\xff\\xff\\xff\\xb5\\x10\\xfc\\xff\\xff\\xffp\\x0c\\xffp\\x08j\\x01h\\x00\\x04\\x00\\x00\\xff\\x15,P@\\x00;\\xc3tA\\xff\\xb5\\x88\\xfc\\xff\\xff\\xff\\x15\\x1cP@\\x00\\x8b\\x07j\\x01h\\x1b\\x08\\x00\\x00\\x8bp\\x10\\x8b\\xce\\xff\\x15\\x88Q@\\x00\\x8b\\xcf\\xff\\xd6\\x8b\\x9d\\x80\\xfc\\xff\\xffj\\x01\\x8b\\x03\\x8b0\\x8b\\xce\\xff\\x15\\x88Q@\\x00\\x8b\\xcb\\xff\\xd6\\xe9\\xb6\\x05\\x00\\x00\\xff\\xb5\\x88\\xfc\\xff\\xff\\xff\\x15\\x1cP@\\x00\\x8b\\x85\\x80\\xfc\\xff\\xff\\x85\\xc0t\\x16\\x8b\\x00j\\x01\\x8b0\\x8b\\xce\\xff\\x15\\x88Q@\\x00\\x8b\\x8d\\x80\\xfc\\xff\\xff\\xff\\xd6\\x8d\\x85\\x90\\xfc\\xff\\xff\\xc6\\x85\\x8f\\xfc\\xff\\xff\\x00Pj\\x01\\xff\\x15@P@\\x00\\x85\\xc0u<\\x8b\\x07j\\x00h\\xf8u\\x00\\x00\\x8bp\\x10\\x8b\\xce\\xff\\x15\\x88Q@\\x00\\x8b\\xcf\\xff\\xd6\\x8bG\\x08j\\x00\\x8bp\\x18\\x8b\\xce\\xff\\x15\\x88Q@\\x00\\x8dO\\x08\\xff\\xd6\\x84\\xc0\\x0f\\x84;\\x05\\x00\\x00\\xc6\\x85\\x8f\\xfc\\xff\\xff\\x01\\x0f\\xb6\\x8f_\\x03\\x00\\x00\\x0f\\xb6\\x87^\\x03\\x00\\x00\\xf7\\xd9j\\x04\\x1b\\xc9^#\\xce\\xf7\\xd8\\x1b\\xc0#\\xc3\\x8b\\x9d8\\xfc\\xff\\xff\\x0b\\xc83\\xc08\\x87\\\\\\x03\\x00\\x00\\x0f\\x95\\xc0\\x0b\\xc8\\x0f\\xb6\\x87]\\x03\\x00\\x00\\xf7\\xd8\\x1b\\xc0\\x83\\xe0\\x10\\x0b\\xc8\\x8d\\x85t\\xfc\\xff\\xffPQ\\x8dG\\x08\\x8b\\xcbP\\x8d\\x87D\\x03\\x00\\x00P\\x8d\\x87,\\x03\\x00\\x00P\\x8d\\x87\\x14\\x03\\x00\\x00P\\xff\\x15\\x88Q@\\x00\\xff\\xd3\\xff\\xb5x\\xfc\\xff\\xff\\x8a\\xd8\\xff\\x15\\xdcP@\\x00\\x84\\xdb\\x0f\\x84\\xc7\\x01\\x00\\x003\\xdb\\x89\\x9d\\x80\\xfc\\xff\\xff\\x89\\x9d\\x84\\xfc\\xff\\xff8\\x9f]\\x03\\x00\\x00\\x0f\\x85\\xb2\\x00\\x00\\x00\\x8b\\x87\\xac\\x00\\x00\\x00\\x83\\xf8\\x02\\x0f\\x85\\xa3\\x00\\x00\\x00\\x83\\xf8\\x01v\\x0c\\x8b\\x87\\xa8\\x00\\x00\\x00\\x0f\\xb7@\\x02\\xeb\\x05\\xb8\\xff\\xff\\x00\\x00f\\x83\\xf8:\\x0f\\x85\\x83\\x00\\x00\\x00\\x8d\\x8d\\\\\\xfc\\xff\\xff\\xff\\x15(Q@\\x00S\\xff\\xb7\\xa8\\x00\\x00\\x00\\xff\\x15HP@\\x00\\x89\\x85\\x80\\xfc\\xff\\xff\\x85\\xc0tT\\x8d\\x8d\\\\\\xfc\\xff\\xffQP\\xff\\x15\\xe0P@\\x00\\x8b\\x0f\\x8bI\\x0c\\x89\\x8d\\x88\\xfc\\xff\\xff\\x84\\xc0t\\x15\\x8d\\x85\\\\\\xfc\\xff\\xffPhT\\x11@\\x00j\\x01h\\xf2u\\x00\\x00\\xeb\\x12\\xff\\xb5\\x80\\xfc\\xff\\xffh\\xa8\\x11@\\x00j\\x01h\\xf3u\\x00\\x00W\\xff\\x15\\x88Q@\\x00\\xff\\x95\\x88\\xfc\\xff\\xff\\x83\\xc4\\x14\\x8d\\x8d\\\\\\xfc\\xff\\xff\\xff\\x15\\x80Q@\\x00SSS\\x8d\\x87\\x14\\x03\\x00\\x00P\\xff\\x15\\x0cP@\\x00\\x85\\xc0y!\\x8b\\x07j\\x01h\\xfau\\x00\\x00\\x8bp\\x10\\x8b\\xce\\xff\\x15\\x88Q@\\x00\\x8b\\xcf\\xff\\xd6j\\x04^\\x89\\xb5\\x84\\xfc\\xff\\xff8\\x9d\\x8f\\xfc\\xff\\xff\\x0f\\x84\\x86\\x00\\x00\\x00\\xff\\x15<P@\\x00\\x85\\xc0u|\\xff\\x15 P@\\x00\\x8d\\x8d\\\\\\xfc\\xff\\xff\\x89\\x85\\x88\\xfc\\xff\\xff\\xff\\x15(Q@\\x00\\x8d\\x85\\\\\\xfc\\xff\\xffP\\xff\\xb5\\x88\\xfc\\xff\\xff\\xff\\x15\\xe0P@\\x00\\x8b\\x0f\\x8bI\\x0c\\x89\\x8d\\x84\\xfc\\xff\\xff\\x84\\xc0t\\x0e\\x8d\\x85\\\\\\xfc\\xff\\xffPhT\\x11@\\x00\\xeb\\x0b\\xff\\xb5\\x88\\xfc\\xff\\xffh\\xa8\\x11@\\x00j\\x01h\\xf9u\\x00\\x00W\\xff\\x15\\x88Q@\\x00\\xff\\x95\\x84\\xfc\\xff\\xff\\x83\\xc4\\x14\\x89\\xb5\\x84\\xfc\\xff\\xff\\x8d\\x8d\\\\\\xfc\\xff\\xff\\xff\\x15\\x80Q@\\x009\\x9d\\x80\\xfc\\xff\\xff\\x0f\\x85\\x17\\x03\\x00\\x009\\x9d\\x84\\xfc\\xff\\xff\\x0f\\x85\\x0b\\x03\\x00\\x00\\x8b\\x07Sh\\xaeu\\x00\\x00\\x8bp\\x10\\x8b\\xce\\xff\\x15\\x88Q@\\x00\\x8b\\xcf\\xff\\xd6\\xe9\\xed\\x02\\x00\\x00\\x8b\\x85t\\xfc\\xff\\xff\\x83\\xf8\\t\\x0f\\x87\\x92\\x02\\x00\\x00\\xff$\\x85\\xca!@\\x00\\x8d\\x87,\\x03\\x00\\x00P\\x8d\\x87\\x88\\x00\\x00\\x00PhX\\x11@\\x00j\\x01h\\xb0u\\x00\\x00\\xe9\\x86\\x02\\x00\\x00\\x8b7\\x8d\\x87,\\x03\\x00\\x00PhT\\x11@\\x00j\\x01\\x8bN\\x0ch\\x99u\\x00\\x00W\\xff\\x15\\x88Q@\\x00\\xffV\\x0c\\x83\\xc4\\x14j\\x03\\xe9n\\x02\\x00\\x00\\x8b7\\x8d\\x87,\\x03\\x00\\x00P\\x8d\\x85D\\xfc\\xff\\xffP\\x8bN\\x0chX\\x11@\\x00j\\x01h\\x9au\\x00\\x00W\\xff\\x15\\x88Q@\\x00\\xffV\\x0c\\x83\\xc4\\x18j\\x02\\xe9;\\x02\\x00\\x00\\x8d\\x87\\x88\\x00\\x00\\x00PhT\\x11@\\x00j\\x01h\\xebu\\x00\\x00\\x8b7W\\x8bN\\x0c\\xff\\x15\\x88Q@\\x00\\xffV\\x0c\\x83\\xc4\\x14\\xe9\\x0f\\x02\\x00\\x00\\x8d\\x87\\x88\\x00\\x00\\x00PhT\\x11@\\x00j\\x01h\\xf5u\\x00\\x00\\xeb\\xd4\\x8b7\\x8d\\x87\\x88\\x00\\x00\\x00PhT\\x11@\\x003\\xdb\\x8bN\\x0cSh\\xd4u\\x00\\x00W\\xff\\x15\\x88Q@\\x00\\xffV\\x0c\\x8bG\\x08\\x83\\xc4\\x14\\x8bp\\x18\\x8b\\xceS\\xff\\x15\\x88Q@\\x00\\x8dO\\x08\\xff\\xd6\\x84\\xc0\\x0f\\x84\\xb8\\x01\\x00\\x00\\x8b\\xbd\\x84\\xfc\\xff\\xff\\x8b\\xcf\\xe8+\\r\\x00\\x00\\x84\\xc0\\x0f\\x84\\xa3\\x01\\x00\\x008\\x9f]\\x03\\x00\\x00\\x0f\\x85\\xa8\\x00\\x00\\x00\\x8b\\x87\\xac\\x00\\x00\\x00\\x83\\xf8\\x02\\x0f\\x85\\x99\\x00\\x00\\x00\\x83\\xf8\\x01v\\x0c\\x8b\\x87\\xa8\\x00\\x00\\x00\\x0f\\xb7@\\x02\\xeb\\x05\\xb8\\xff\\xff\\x00\\x00f\\x83\\xf8:u}\\x8d\\x8d\\\\\\xfc\\xff\\xff\\xff\\x15(Q@\\x00j\\x01\\xff\\xb7\\xa8\\x00\\x00\\x00\\xff\\x15HP@\\x00\\x8b\\xd8\\x85\\xdbtL\\x8d\\x85\\\\\\xfc\\xff\\xffPS\\xff\\x15\\xe0P@\\x00\\x8b\\x0f\\x8bq\\x0c\\x8b\\xce\\x84\\xc0t\\x15\\x8d\\x85\\\\\\xfc\\xff\\xffPhT\\x11@\\x00j\\x01h\\xf2u\\x00\\x00\\xeb\\rSh\\xa8\\x11@\\x00j\\x01h\\xf4u\\x00\\x00W\\xff\\x15\\x88Q@\\x00\\xff\\xd6\\x83\\xc4\\x14j\\x04[\\xeb\\x033\\xdbC\\x8d\\x8d\\\\\\xfc\\xff\\xff\\xff\\x15\\x80Q@\\x00\\xeb\\x033\\xdbC\\x80\\xbd\\x8f\\xfc\\xff\\xff\\x00\\x0f\\x84\\x03\\x01\\x00\\x00\\xff\\x15<P@\\x00\\x85\\xc0\\x0f\\x85\\xf5\\x00\\x00\\x00\\xff\\x15 P@\\x00\\x8d\\x8d\\\\\\xfc\\xff\\xff\\x8b\\xd8\\xff\\x15(Q@\\x00\\x8d\\x85\\\\\\xfc\\xff\\xffPS\\xff\\x15\\xe0P@\\x00\\x8b\\x0f\\x8bq\\x0c\\x8b\\xce\\x84\\xc0t\\x0e\\x8d\\x85\\\\\\xfc\\xff\\xffPhT\\x11@\\x00\\xeb\\x06Sh\\xa8\\x11@\\x00j\\x01h\\xf9u\\x00\\x00W\\xff\\x15\\x88Q@\\x00\\xff\\xd6\\x83\\xc4\\x14\\x8d\\x8d\\\\\\xfc\\xff\\xffj\\x04[\\xff\\x15\\x80Q@\\x00\\xe9\\x8d\\x00\\x00\\x00\\x8b7\\x8d\\x87,\\x03\\x00\\x00P\\x8d\\x87\\x88\\x00\\x00\\x00P\\x8bN\\x0chX\\x11@\\x00j\\x01h\\xafu\\x00\\x00W\\xff\\x15\\x88Q@\\x00\\xffV\\x0c3\\xdb\\x83\\xc4\\x18\\x83\\xbdt\\xfc\\xff\\xff\\x08\\x0f\\x94\\xc3\\x83\\xc3\\x04\\xebP\\x8d\\x87,\\x03\\x00\\x00P\\x8d\\x87\\x88\\x00\\x00\\x00PhX\\x11@\\x00j\\x01h\\xafu\\x00\\x00\\x8b7W\\x8bN\\x0c\\xff\\x15\\x88Q@\\x00\\xffV\\x0c\\x83\\xc4\\x18j\\x04[\\xeb\\x1fj\\x01h\\xc8u\\x00\\x00\\x8b\\x07\\x8bp\\x10\\x8b\\xce\\xff\\x15\\x88Q@\\x00\\x8b\\xcf\\xff\\xd6j\\x04[\\x8b\\xf3\\x8b\\xde\\x8d\\x8d\\xb0\\xfd\\xff\\xff\\xff\\x15\\xfcP@\\x00\\x8d\\x8d\\xd8\\xfb\\xff\\xff\\xff\\x15\\x80Q@\\x00\\x8d\\x8d\\x08\\xfc\\xff\\xff\\xff\\x15\\x80Q@\\x00\\x8d\\x8d\\x88\\xfb\\xff\\xff\\xff\\x15\\x80Q@\\x00\\x8d\\x8d\\xc0\\xfb\\xff\\xff\\xff\\x15\\x80Q@\\x00\\x8d\\x8d\\xa8\\xfb\\xff\\xff\\xff\\x15\\x80Q@\\x00\\x8d\\x8d \\xfc\\xff\\xff\\xff\\x15\\x80Q@\\x00\\x8d\\x8d\\xf0\\xfb\\xff\\xff\\xff\\x15\\x80Q@\\x00\\x8d\\x8dD\\xfc\\xff\\xff\\xff\\x15\\x80Q@\\x00\\x8bM\\xfc\\x8b\\xc3_^3\\xcd[\\xe8\\x1c\\x0c\\x00\\x00\\x8b\\xe5]\\xc3\\x8b\\xffn\\x1e@\\x00\\x8d\\x1e@\\x00\\xb9\\x1e@\\x00+\\x1f@\\x00\\xbc @\\x00\\xf9 @\\x00\\xec\\x1e@\\x00\\xbc @\\x00\\xbc @\\x00\\x16\\x1f@\\x00\\x8b\\xffU\\x8b\\xec\\x83\\xec SV\\x8b\\xd9\\x8dM\\xe0W\\xff\\x15(Q@\\x00\\xff\\x15\\xc4P@\\x00\\x8b\\xf83\\xf6\\x85\\xffu\\x1d\\x8b\\x03j\\x01h\\x9cu\\x00\\x00\\x8bp\\x10\\x8b\\xce\\xff\\x15\\x88Q@\\x00\\x8b\\xcb\\xff\\xd6\\xe9\\x9b\\x00\\x00\\x00j\\xffhl\\x12@\\x00\\x8dM\\xe0\\xff\\x15\\xa8P@\\x00\\x84\\xc0t]V\\x8dE\\xe0\\x8b\\xcfP\\xff\\x15\\x00Q@\\x00\\x84\\xc0tLVVW\\xff\\x15\\xc8P@\\x00\\x89E\\xf8\\x85\\xc0u\\'\\x8b3\\x8d\\x87\\x10\\x02\\x00\\x00PhT\\x11@\\x00j\\x01\\x8bN\\x0ch\\x9du\\x00\\x00S\\xff\\x15\\x88Q@\\x00\\xffV\\x0c\\x83\\xc4\\x14\\xeb-\\x8b\\x00j\\x01\\x8b0\\x8b\\xce\\xff\\x15\\x88Q@\\x00\\x8bM\\xf8\\xff\\xd6\\xeb,\\x8b\\x03j\\x01h\\xc8u\\x00\\x00\\x8bp\\x10\\x8b\\xce\\xff\\x15\\x88Q@\\x00\\x8b\\xcb\\xff\\xd6\\x8b\\x07j\\x01\\x8b0\\x8b\\xce\\xff\\x15\\x88Q@\\x00\\x8b\\xcf\\xff\\xd63\\xff\\x8dM\\xe0\\xff\\x15\\x80Q@\\x00\\x8b\\xc7_^[\\x8b\\xe5]\\xc2\\x04\\x00\\x8b\\xffU\\x8b\\xec\\x81\\xecp\\x02\\x00\\x00\\xa1\\x00@@\\x003\\xc5\\x89E\\xf8S\\x8b]\\x08VW\\x8b\\xf9\\x89\\x9d\\xa8\\xfd\\xff\\xff\\x8d\\x8d\\xac\\xfd\\xff\\xff\\xff\\x15\\xf4P@\\x00\\x8d\\x8d\\x90\\xfd\\xff\\xff\\xff\\x15(Q@\\x00QQ\\x8b\\xcf\\xe8\\x1a\\x02\\x00\\x00\\x84\\xc0tj\\x80\\xbf`\\x03\\x00\\x00\\x00t\\x1c\\x8b\\x07j\\x00h\\x94u\\x00\\x00\\x8bp\\x10\\x8b\\xce\\xff\\x15\\x88Q@\\x00\\x8b\\xcf\\xff\\xd63\\xc0\\xebH\\x83\\xbf\\xac\\x00\\x00\\x00\\x00\\x8d\\xb7\\xa0\\x00\\x00\\x00u\\x0bV\\xff\\x15\\xccP@\\x00\\x84\\xc0t\\x13j\\x00V\\x8d\\x8d\\xac\\xfd\\xff\\xff\\xff\\x15\\xf8P@\\x00\\x84\\xc0u\"\\x8b\\x07j\\x01h\\xc8u\\x00\\x00\\x8bp\\x10\\x8b\\xce\\xff\\x15\\x88Q@\\x00\\x8b\\xcf\\xff\\xd6j\\x04X\\x89\\x03\\xe9s\\x01\\x00\\x00\\x8d\\x85\\x90\\xfd\\xff\\xffP\\x8d\\x87\\xd0\\x00\\x00\\x00\\x8d\\x8f\\xb8\\x00\\x00\\x00PQ\\x8d\\x8d\\xac\\xfd\\xff\\xff\\xff\\x15\\xc0P@\\x003\\xdbC\\x85\\xc0\\x0f\\x88$\\x01\\x00\\x00;\\xc3~$\\x83\\xf8\\x02t\\x14\\x83\\xf8\\x04\\x0f\\x85\\x12\\x01\\x00\\x00Sh\\xad\\x08\\x00\\x00\\xe9\\r\\x01\\x00\\x00Sh\\xc8u\\x00\\x00\\xe9\\x02\\x01\\x00\\x00\\x83\\xbd\\x9c\\xfd\\xff\\xff\\x00\\x0f\\x85\\xef\\x00\\x00\\x00\\x8d\\x8d\\xac\\xfd\\xff\\xff\\xff\\x15\\xf0P@\\x00\\x8d\\x8f\\x88\\x00\\x00\\x00j\\xffj\\x00\\x84\\xc0t2\\x8d\\x87\\xb8\\x00\\x00\\x00P\\xff\\x15\\xa4P@\\x00\\x84\\xc0t\\xbd\\x8b\\x87\\xec\\x02\\x00\\x00\\x8d\\x8f\\xe0\\x02\\x00\\x00\\x83\\xf8\\x02us;\\xc3v\\x14\\x8b\\x87\\xe8\\x02\\x00\\x00\\x0f\\xb7@\\x02\\xeb\\r\\x8d\\x87\\xe0\\x02\\x00\\x00\\xeb\\xcc\\xb8\\xff\\xff\\x00\\x00f\\x83\\xf8:uPj\\xffj\\x00Q\\x8d\\x8f\\xa0\\x00\\x00\\x00\\xff\\x15\\xa4P@\\x00\\x84\\xc0\\x0f\\x84p\\xff\\xff\\xff\\x8b\\xce\\xff\\x15\\xb4P@\\x00\\x85\\xc0\\x0f\\x84`\\xff\\xff\\xffV\\xff\\x15\\xd0P@\\x00\\x83\\xe8\\x00t[\\x83\\xe8\\x03tN\\x83\\xe8\\x01tA\\x83\\xbf8\\x03\\x00\\x00\\x00u\\x17Sh\\x96u\\x00\\x00\\xebFj\\xffj\\x00\\x8d\\x87\\xb8\\x00\\x00\\x00\\x8b\\xceP\\xeb\\xac\\x8d\\x87\\x14\\x03\\x00\\x00PV\\xff\\x15\\x10P@\\x00\\x84\\xc0\\x0f\\x84\\x14\\xff\\xff\\xff\\x8b\\x85\\xa8\\xfd\\xff\\xff\\x83 \\x00\\xeb5Sh\\xf6u\\x00\\x00\\xeb\\x0eSh\\x98u\\x00\\x00\\xeb\\x06Sh\\x97u\\x00\\x00\\x8b\\x07\\x8bp\\x10\\x8b\\xce\\xff\\x15\\x88Q@\\x00\\x8b\\xcf\\xff\\xd6\\x8b\\x85\\xa8\\xfd\\xff\\xff\\xc7\\x00\\x04\\x00\\x00\\x002\\xdb\\x8d\\x8d\\x90\\xfd\\xff\\xff\\xff\\x15\\x80Q@\\x00\\x8d\\x8d\\xac\\xfd\\xff\\xff\\xff\\x15\\xfcP@\\x00\\x8bM\\xf8\\x8a\\xc3_^3\\xcd[\\xe8\\xa4\\x08\\x00\\x00\\x8b\\xe5]\\xc2\\x04\\x00\\x8b\\xffU\\x8b\\xec\\x81\\xec\\xdc\\x02\\x00\\x00SVW\\x8b\\xf9\\x8dM\\xe8\\xff\\x15\\xecP@\\x00\\x8dM\\xcc\\xff\\x15\\xecP@\\x00\\x8d\\x8d(\\xfd\\xff\\xff\\xff\\x15\\\\Q@\\x00\\x8d\\x8dH\\xff\\xff\\xff\\xff\\x15PQ@\\x00\\x8d\\x8d,\\xfe\\xff\\xff\\xff\\x15PQ@\\x00\\x8d\\x8dt\\xff\\xff\\xff\\xff\\x15PQ@\\x00\\x8dM\\xa0\\xff\\x15PQ@\\x00\\x8d\\x8dX\\xfe\\xff\\xff\\xff\\x15\\xe4P@\\x00\\x8d\\x8d\\x88\\xfe\\xff\\xff\\xff\\x15\\xe4P@\\x00\\x8d\\x8d\\xb8\\xfe\\xff\\xff\\xff\\x15\\xe4P@\\x00\\x8d\\x8d\\xe8\\xfe\\xff\\xff\\xff\\x15\\xe4P@\\x00\\x8d\\x8d\\x18\\xff\\xff\\xff\\xff\\x15\\xe4P@\\x003\\xdb\\x8dM\\xe8CSj\\x07\\xff\\x15 Q@\\x00\\x84\\xc0\\x0f\\x84K\\x03\\x00\\x00Sj\\x07\\x8dM\\xcc\\xff\\x15 Q@\\x00\\x84\\xc0\\x0f\\x847\\x03\\x00\\x00\\x8dE\\xccP\\x8d\\x8d(\\xfd\\xff\\xff\\xff\\x15dQ@\\x00\\x84\\xc0\\x0f\\x84\\x1f\\x03\\x00\\x00\\xbe\\xac\\x11@\\x00\\x8d\\x8dH\\xff\\xff\\xffV\\xff\\x15XQ@\\x00\\x84\\xc0\\x0f\\x84\\x05\\x03\\x00\\x00h\\xb0\\x11@\\x00\\x8d\\x8dX\\xfe\\xff\\xff\\xff\\x15\\xe8P@\\x00\\x84\\xc0\\x0f\\x84\\xec\\x02\\x00\\x00h\\xb4\\x11@\\x00\\x8d\\x8d\\x88\\xfe\\xff\\xff\\xff\\x15\\xe8P@\\x00\\x84\\xc0\\x0f\\x84\\xd3\\x02\\x00\\x00h\\xb8\\x11@\\x00\\x8d\\x8d\\xb8\\xfe\\xff\\xff\\xff\\x15\\xe8P@\\x00\\x84\\xc0\\x0f\\x84\\xba\\x02\\x00\\x00h\\xc4\\x11@\\x00\\x8d\\x8d\\xe8\\xfe\\xff\\xff\\xff\\x15\\xe8P@\\x00\\x84\\xc0\\x0f\\x84\\xa1\\x02\\x00\\x00h\\xd0\\x11@\\x00\\x8d\\x8d\\x18\\xff\\xff\\xff\\xff\\x15\\xe8P@\\x00\\x84\\xc0\\x0f\\x84\\x88\\x02\\x00\\x00V\\x8d\\x8d,\\xfe\\xff\\xff\\xff\\x15XQ@\\x00\\x84\\xc0\\x0f\\x84s\\x02\\x00\\x00h\\xd4\\x11@\\x00\\x8d\\x8dt\\xff\\xff\\xff\\xff\\x15XQ@\\x00\\x84\\xc0\\x0f\\x84Z\\x02\\x00\\x00h\\xdc\\x11@\\x00\\x8dM\\xa0\\xff\\x15XQ@\\x00\\x84\\xc0\\x0f\\x84D\\x02\\x00\\x00j\\x00\\x8d\\x8d(\\xfd\\xff\\xff\\xff\\x15xQ@\\x00\\x8d\\x85,\\xfe\\xff\\xffP\\x8dM\\xe8\\xff\\x15$Q@\\x00\\x84\\xc0\\x0f\\x84\\x1e\\x02\\x00\\x00\\x8d\\x85X\\xfe\\xff\\xffP\\x8dM\\xe8\\xff\\x15$Q@\\x00\\x84\\xc0\\x0f\\x84\\x06\\x02\\x00\\x00\\x8d\\x85H\\xff\\xff\\xffP\\x8dM\\xe8\\xff\\x15$Q@\\x00\\x84\\xc0\\x0f\\x84\\xee\\x01\\x00\\x00\\x8d\\x85\\x88\\xfe\\xff\\xffP\\x8dM\\xe8\\xff\\x15$Q@\\x00\\x84\\xc0\\x0f\\x84\\xd6\\x01\\x00\\x00\\x8d\\x85\\xb8\\xfe\\xff\\xffP\\x8dM\\xe8\\xff\\x15$Q@\\x00\\x84\\xc0\\x0f\\x84\\xbe\\x01\\x00\\x00\\x8d\\x85\\xe8\\xfe\\xff\\xffP\\x8dM\\xe8\\xff\\x15$Q@\\x00\\x84\\xc0\\x0f\\x84\\xa6\\x01\\x00\\x00\\x8d\\x85\\x18\\xff\\xff\\xffP\\x8dM\\xe8\\xff\\x15$Q@\\x00\\x84\\xc0\\x0f\\x84\\x8e\\x01\\x00\\x00\\x8d\\x85t\\xff\\xff\\xffP\\x8dM\\xe8\\xff\\x15$Q@\\x00\\x84\\xc0\\x0f\\x84v\\x01\\x00\\x00\\x8dE\\xa0P\\x8dM\\xe8\\xff\\x15$Q@\\x00\\x84\\xc0\\x0f\\x84a\\x01\\x00\\x00j\\x00\\x8d\\x8d(\\xfd\\xff\\xff\\xff\\x15pQ@\\x00\\x84\\xc0\\x0f\\x84K\\x01\\x00\\x00\\x8dE\\xe8P\\x8d\\x8d(\\xfd\\xff\\xff\\xff\\x15hQ@\\x00\\x84\\xc0uN\\x8d\\x8d(\\xfd\\xff\\xff\\xff\\x15lQ@\\x00\\x8b7PhT\\x11@\\x00S\\x8bN\\x0ch\\x95u\\x00\\x00W\\x89E\\xe4\\xff\\x15\\x88Q@\\x00\\xffV\\x0c\\x8b}\\xe4\\x83\\xc4\\x14\\x85\\xff\\x0f\\x84\\x16\\x01\\x00\\x00\\x8b\\x07S\\x8b0\\x8b\\xce\\xff\\x15\\x88Q@\\x00\\x8b\\xcf\\xff\\xd6\\xe9\\x00\\x01\\x00\\x00\\x8a\\x85\\x84\\xfe\\xff\\xff\\x8d\\x8dH\\xff\\xff\\xff\\x88\\x87`\\x03\\x00\\x00\\x8d\\xb7\\xa0\\x00\\x00\\x00\\x8a\\x85\\xb4\\xfe\\xff\\xff\\x88\\x87\\\\\\x03\\x00\\x00\\x8a\\x85\\xe4\\xfe\\xff\\xff\\x88\\x87]\\x03\\x00\\x00\\x8a\\x85\\x14\\xff\\xff\\xff\\x88\\x87^\\x03\\x00\\x00\\x8a\\x85D\\xff\\xff\\xff\\x88\\x87_\\x03\\x00\\x00\\xc6\\x87a\\x03\\x00\\x00\\x00\\xff\\x15tQ@\\x00\\x8b\\xcej\\xff\\x84\\xc0t\\x10j\\x00\\xff\\xb5p\\xff\\xff\\xff\\xff\\x15\\xa4P@\\x00\\xeb\\x0bh\\xe8\\x11@\\x00\\xff\\x15\\xa8P@\\x00\\x84\\xc0\\x0f\\x84\\x80\\x00\\x00\\x00\\x8d\\x8dt\\xff\\xff\\xff\\x8d\\xb7,\\x03\\x00\\x00\\xff\\x15tQ@\\x00\\x8b\\xcej\\xff\\x84\\xc0t\\rj\\x00\\xffu\\x9c\\xff\\x15\\xa4P@\\x00\\xeb\\x0bh\\xe8\\x11@\\x00\\xff\\x15\\xa8P@\\x00\\x84\\xc0tJ\\x8dM\\xa0\\xff\\x15tQ@\\x00\\x8d\\x8fD\\x03\\x00\\x00j\\xff\\x84\\xc0t\\x11j\\x00\\xffu\\xc8\\xff\\x15\\xa4P@\\x00\\x84\\xc0t&\\xeb&h\\xe8\\x11@\\x00\\xff\\x15\\xa8P@\\x00\\xeb\\x19\\x8b\\x07Sh\\xc8u\\x00\\x00\\x8bp\\x10\\x8b\\xce\\xff\\x15\\x88Q@\\x00\\x8b\\xcf\\xff\\xd62\\xdb\\x8d\\x8d(\\xff\\xff\\xff\\xff\\x15\\x80Q@\\x00\\x8d\\x8d\\x18\\xff\\xff\\xff\\xff\\x15\\xb0P@\\x00\\x8d\\x8d\\xf8\\xfe\\xff\\xff\\xff\\x15\\x80Q@\\x00\\x8d\\x8d\\xe8\\xfe\\xff\\xff\\xff\\x15\\xb0P@\\x00\\x8d\\x8d\\xc8\\xfe\\xff\\xff\\xff\\x15\\x80Q@\\x00\\x8d\\x8d\\xb8\\xfe\\xff\\xff\\xff\\x15\\xb0P@\\x00\\x8d\\x8d\\x98\\xfe\\xff\\xff\\xff\\x15\\x80Q@\\x00\\x8d\\x8d\\x88\\xfe\\xff\\xff\\xff\\x15\\xb0P@\\x00\\x8d\\x8dh\\xfe\\xff\\xff\\xff\\x15\\x80Q@\\x00\\x8d\\x8dX\\xfe\\xff\\xff\\xff\\x15\\xb0P@\\x00\\x8dM\\xa0\\xff\\x15TQ@\\x00\\x8d\\x8dt\\xff\\xff\\xff\\xff\\x15TQ@\\x00\\x8d\\x8d,\\xfe\\xff\\xff\\xff\\x15TQ@\\x00\\x8d\\x8dH\\xff\\xff\\xff\\xff\\x15TQ@\\x00\\x8d\\x8d(\\xfd\\xff\\xff\\xff\\x15`Q@\\x00\\x8dM\\xcc\\xff\\x15\\x1cQ@\\x00\\x8dM\\xe8\\xff\\x15\\x1cQ@\\x00_^\\x8a\\xc3[\\x8b\\xe5]\\xc2\\x08\\x00\\x8b\\xffU\\x8b\\xec\\x81\\xec\\xac\\x00\\x00\\x00SV\\x8b\\xf1\\x8dM\\xe8W\\xff\\x15(Q@\\x00\\x8dM\\xd0\\xff\\x15(Q@\\x00\\x8d\\x8dX\\xff\\xff\\xff\\xff\\x15(Q@\\x00\\x8d\\x8dp\\xff\\xff\\xff\\xff\\x15(Q@\\x00\\x8dM\\x88\\xff\\x15(Q@\\x00\\x8dM\\xa0\\xff\\x15(Q@\\x00\\x8dM\\xb8\\xff\\x15(Q@\\x00\\x83\\xcf\\xff\\x8dM\\xe8Wh\\xec\\x11@\\x00\\xff\\x15\\xa8P@\\x003\\xdb\\x84\\xc0\\x0f\\x84\\xc4\\x01\\x00\\x00Wh\\x14\\x12@\\x00\\x8dM\\xd0\\xff\\x15\\xa8P@\\x00\\x84\\xc0\\x0f\\x84\\xad\\x01\\x00\\x00Wh\\x18\\x12@\\x00\\x8d\\x8dX\\xff\\xff\\xff\\xff\\x15\\xa8P@\\x00\\x84\\xc0\\x0f\\x84\\x93\\x01\\x00\\x00\\x8d\\x86\\x14\\x03\\x00\\x00P\\x8dM\\xe8\\xff\\x15\\xa0P@\\x00\\x84\\xc0\\x0f\\x84{\\x01\\x00\\x00\\x8dE\\xd0P\\x8dM\\xe8\\xff\\x15\\xa0P@\\x00\\x84\\xc0\\x0f\\x84f\\x01\\x00\\x00\\x8d\\x85X\\xff\\xff\\xffP\\x8dM\\xe8\\xff\\x15\\xa0P@\\x00\\x84\\xc0\\x0f\\x84N\\x01\\x00\\x00\\x8d\\x86,\\x03\\x00\\x00P\\x8dM\\xe8\\xff\\x15\\xa0P@\\x00\\x84\\xc0\\x0f\\x846\\x01\\x00\\x009\\x9eP\\x03\\x00\\x00t_\\x8dE\\xd0P\\x8dM\\xe8\\xff\\x15\\xa0P@\\x00\\x84\\xc0\\x0f\\x84\\x19\\x01\\x00\\x00Wh$\\x12@\\x00\\x8d\\x8dp\\xff\\xff\\xff\\xff\\x15\\xa8P@\\x00\\x84\\xc0\\x0f\\x84\\xff\\x00\\x00\\x00\\x8d\\x85p\\xff\\xff\\xffP\\x8dM\\xe8\\xff\\x15\\xa0P@\\x00\\x84\\xc0\\x0f\\x84\\xe7\\x00\\x00\\x00\\x8d\\x86D\\x03\\x00\\x00P\\x8dM\\xe8\\xff\\x15\\xa0P@\\x00\\x84\\xc0\\x0f\\x84\\xcf\\x00\\x00\\x008\\x9e^\\x03\\x00\\x00tA\\x8dE\\xd0P\\x8dM\\xe8\\xff\\x15\\xa0P@\\x00\\x84\\xc0\\x0f\\x84\\xb2\\x00\\x00\\x00Wh8\\x12@\\x00\\x8dM\\x88\\xff\\x15\\xa8P@\\x00\\x84\\xc0\\x0f\\x84\\x9b\\x00\\x00\\x00\\x8dE\\x88P\\x8dM\\xe8\\xff\\x15\\xa0P@\\x00\\x84\\xc0\\x0f\\x84\\x86\\x00\\x00\\x008\\x9e\\\\\\x03\\x00\\x00t5\\x8dE\\xd0P\\x8dM\\xe8\\xff\\x15\\xa0P@\\x00\\x84\\xc0tmWhL\\x12@\\x00\\x8dM\\xa0\\xff\\x15\\xa8P@\\x00\\x84\\xc0tZ\\x8dE\\xa0P\\x8dM\\xe8\\xff\\x15\\xa0P@\\x00\\x84\\xc0tI8\\x9e]\\x03\\x00\\x00t5\\x8dE\\xd0P\\x8dM\\xe8\\xff\\x15\\xa0P@\\x00\\x84\\xc0t0WhT\\x12@\\x00\\x8dM\\xb8\\xff\\x15\\xa8P@\\x00\\x84\\xc0t\\x1d\\x8dE\\xb8P\\x8dM\\xe8\\xff\\x15\\xa0P@\\x00\\x84\\xc0t\\x0c\\x8dE\\xe8P\\xff\\x15\\x08P@\\x00\\x8a\\xd8\\x8dM\\xb8\\xff\\x15\\x80Q@\\x00\\x8dM\\xa0\\xff\\x15\\x80Q@\\x00\\x8dM\\x88\\xff\\x15\\x80Q@\\x00\\x8d\\x8dp\\xff\\xff\\xff\\xff\\x15\\x80Q@\\x00\\x8d\\x8dX\\xff\\xff\\xff\\xff\\x15\\x80Q@\\x00\\x8dM\\xd0\\xff\\x15\\x80Q@\\x00\\x8dM\\xe8\\xff\\x15\\x80Q@\\x00_^\\x8a\\xc3[\\x8b\\xe5]\\xc3\\x8b\\xffSVWQ\\x8b\\xf9\\xe8@\\xf5\\xff\\xff\\x89\\x87t\\x03\\x00\\x00\\x85\\xc0u\\x1c\\x8b\\x07j\\x01h\\x9eu\\x00\\x00\\x8bp\\x10\\x8b\\xce\\xff\\x15\\x88Q@\\x00\\x8b\\xcf\\xff\\xd62\\xc0\\xebV\\x8b\\xcf\\xe8S\\x00\\x00\\x00\\x84\\xc0t\\xd9\\x8b\\xcf\\xe88\\xfd\\xff\\xff\\x8b7\\x8a\\xd8\\x84\\xdbt%\\x8d\\x8f\\x88\\x00\\x00\\x00Q\\x8bN\\x0chT\\x11@\\x00j\\x00h\\x9bu\\x00\\x00W\\xff\\x15\\x88Q@\\x00\\xffV\\x0c\\x83\\xc4\\x14\\xeb\\x15\\x8bN\\x10j\\x01h\\x9eu\\x00\\x00\\xff\\x15\\x88Q@\\x00\\x8b\\xcf\\xffV\\x10\\x8a\\xc3_^[\\xc3\\x8b\\xffU\\x8b\\xec\\x83\\xec4SV\\x8b\\xf1\\x8dM\\xe8W\\xff\\x15(Q@\\x00\\x8dM\\xd0\\xff\\x15(Q@\\x00j\\xffh\\xec\\x11@\\x00\\x8dM\\xe8\\xff\\x15\\xa8P@\\x00\\x84\\xc0tQ\\x8d\\x86\\x14\\x03\\x00\\x00P\\x8dE\\xe8P\\xff\\x15\\x04P@\\x00\\x84\\xc0t<\\x8d\\xbe\\xb8\\x00\\x00\\x00W\\x8d\\x8e\\xa0\\x00\\x00\\x00\\xff\\x15\\xb8P@\\x00\\x85\\xc0t%\\x8dE\\xd0PW\\xff\\x15\\x10P@\\x00\\x84\\xc0t\\x16\\x8dE\\xd0P\\x8dE\\xe8P\\xff\\x15\\x04P@\\x00\\x84\\xc0t\\x04\\xb3\\x01\\xeb\\x022\\xdb\\x8dM\\xd0\\xff\\x15\\x80Q@\\x00\\x8dM\\xe8\\xff\\x15\\x80Q@\\x00_^\\x8a\\xc3[\\x8b\\xe5]\\xc3\\xcc\\xcc\\xcc\\xcc\\xcc\\xcc\\xcc\\xcc\\xcc\\xcc\\xcc\\xcc\\xcc;\\r\\x00@@\\x00u\\x03\\xc2\\x00\\x00\\xe9\\x00\\x00\\x00\\x00\\x8b\\xffU\\x8b\\xecQQ\\xa3\\x18A@\\x00\\x89\\r\\x14A@\\x00\\x89\\x15\\x10A@\\x00\\x89\\x1d\\x0cA@\\x00\\x895\\x08A@\\x00\\x89=\\x04A@\\x00f\\x8c\\x150A@\\x00f\\x8c\\r$A@\\x00f\\x8c\\x1d\\x00A@\\x00f\\x8c\\x05\\xfc@@\\x00f\\x8c%\\xf8@@\\x00f\\x8c-\\xf4@@\\x00\\x9c\\x8f\\x05(A@\\x00\\x8bE\\x00\\xa3\\x1cA@\\x00\\x8bE\\x04\\xa3 A@\\x00\\x8dE\\x08\\xa3,A@\\x00\\xc7\\x05h@@\\x00\\x01\\x00\\x01\\x00\\xa1 A@\\x00\\xa3$@@\\x00\\xc7\\x05\\x18@@\\x00\\t\\x04\\x00\\xc0\\xc7\\x05\\x1c@@\\x00\\x01\\x00\\x00\\x00\\xc7\\x05(@@\\x00\\x01\\x00\\x00\\x00j\\x04Xk\\xc0\\x00\\xc7\\x80,@@\\x00\\x02\\x00\\x00\\x00j\\x04Xk\\xc0\\x00\\x8b\\r\\x00@@\\x00\\x89L\\x05\\xf8j\\x04X\\xc1\\xe0\\x00\\x8b\\r\\x04@@\\x00\\x89L\\x05\\xf8h\\x00\\x10@\\x00\\xe8\\xcd\\x01\\x00\\x00h\\t\\x04\\x00\\xc0j\\xff\\xe8\\xbb\\x01\\x00\\x00\\x8b\\xe5]\\xc3\\x8b\\xffU\\x8b\\xec\\x83=\\x00@@\\x00\\x00t\\x0c\\x81=\\x00@@\\x00N\\xe6@\\xbbu\\x0bh\\x00@@\\x00\\xe8\\x0f\\x00\\x00\\x00Y\\xa1\\x00@@\\x00\\xf7\\xd0\\xa3\\x04@@\\x00]\\xc3\\x8b\\xffU\\x8b\\xec\\x83\\xec0Vj\\x04X\\x8b\\x80\\x00\\x00\\xfe\\x7f\\x89E\\xfc\\x81}\\xfc\\x00\\x00\\x00\\x01r)\\xc7E\\xf4 \\x03\\xfe\\x7f\\x8bE\\xf4\\x8b\\x00\\x89E\\xf0\\x8bE\\xf0\\x89E\\xd0\\x8bE\\xd0\\xf7e\\xfc\\xb1\\x18\\xe8\\x1e\\x04\\x00\\x00\\x89E\\xf8\\xebj\\xebh\\xc7E\\xec$\\x03\\xfe\\x7f\\x8bE\\xec\\x8b\\x00\\x89E\\xe8\\x8bE\\xe8\\x89E\\xd4\\xc7E\\xe4 \\x03\\xfe\\x7f\\x8bE\\xe4\\x8b\\x00\\x89E\\xe0\\x8bE\\xe0\\x89E\\xd0\\xc7E\\xdc(\\x03\\xfe\\x7f\\x8bE\\xdc\\x8b\\x00\\x89E\\xd8\\x8bE\\xd4;E\\xd8u\\x02\\xeb\\x04\\xf3\\x90\\xeb\\xb9\\x8bE\\xd0\\xf7e\\xfc\\xb1\\x18\\xe8\\xc3\\x03\\x00\\x00\\x8b\\xc8\\x8b\\xf2\\x8bE\\xd4\\xc1\\xe0\\x08\\xf7e\\xfc\\x03\\xc8\\x13\\xf2\\x89M\\xf8\\x8bE\\xf83E\\x08\\x8bM\\x08\\x89\\x01\\x8bE\\x08\\x838\\x00t\\x0b\\x8bE\\x08\\x818N\\xe6@\\xbbu\\t\\x8bE\\x08\\xc7\\x00O\\xe6@\\xbb^\\x8b\\xe5]\\xc3\\xcc\\xcc\\xcc\\xff%\\xbcP@\\x00\\xcc\\xcc\\xcc\\xcc\\xcc\\xcc\\xcc\\xcc\\xcc\\xcc\\xff%\\x04Q@\\x00\\xcc\\xcc\\xcc\\xcc\\xcc\\xcc\\xcc\\xcc\\xcc\\xcc\\xff%HQ@\\x00\\xcc\\xcc\\xcc\\xcc\\xcc\\xcc\\xcc\\xcc\\xcc\\xcc\\xff%DQ@\\x00\\xcc\\xcc\\xcc\\xcc\\xcc\\xcc\\xcc\\xcc\\xcc\\xcc\\xff%@Q@\\x00\\xcc\\xcc\\xcc\\xcc\\xcc\\xcc\\xcc\\xcc\\xcc\\xcc\\xff%<Q@\\x00\\xcc\\xcc\\xcc\\xcc\\xcc\\xcc\\xcc\\xcc\\xcc\\xcc\\xff%8Q@\\x00\\xcc\\xcc\\xcc\\xcc\\xcc\\xcc\\xcc\\xcc\\xcc\\xcc\\xff%4Q@\\x00\\xcc\\xcc\\xcc\\xcc\\xcc\\xcc\\xcc\\xcc\\xcc\\xcc\\xff%0Q@\\x00\\xcc\\xcc\\xcc\\xcc\\xcc\\xcc\\xcc\\xcc\\xcc\\xcc\\xff%,Q@\\x00\\xcc\\xcc\\xcc\\xcc\\xcc\\xcc\\xcc\\xcc\\xcc\\xcc\\xff%\\x18Q@\\x00\\xff%\\x90P@\\x00\\xff%\\x8cP@\\x00\\xcc\\xcc\\xcc\\xcc\\xcc\\xcc\\xcc\\xcc\\xcc\\xcc\\xcc\\xcc\\xcc\\xcc\\xe8>\\x02\\x00\\x00j\\x01\\xa3LC@\\x00\\xe8\\x9d\\x03\\x00\\x00P\\xff\\x15lP@\\x00\\x83\\rhC@\\x00\\xff\\x83\\rlC@\\x00\\xffYY\\xff\\x15\\\\P@\\x00\\x8b\\r`C@\\x00\\x89\\x08\\xff\\x15xP@\\x00\\x8b\\rTC@\\x00\\x89\\x08\\xe8\\xa7\\x03\\x00\\x00\\x83=\\x10@@\\x00\\x00u\\x0ch\\xa04@\\x00\\xff\\x15XP@\\x00Y\\xe8\\xe2\\x04\\x00\\x003\\xc0\\xc3\\xcc\\xcc\\xcc\\xcc\\xcc\\xcc\\xcc\\xcc\\xcc\\xcc\\xa1\\\\C@\\x00hPC@\\x00\\xff5XC@\\x00\\xa3PC@\\x00hDC@\\x00h@C@\\x00h<C@\\x00\\xff\\x15pP@\\x00\\x83\\xc4\\x14\\xa3HC@\\x00\\xc3j\\x0ch\\xb06@\\x00\\xe8\\xb1\\x04\\x00\\x003\\xdb\\x89]\\xfcd\\xa1\\x18\\x00\\x00\\x00\\x8bp\\x04\\x8b\\xfb\\xbapC@\\x00\\x8b\\xce3\\xc0\\xf0\\x0f\\xb1\\n\\x85\\xc0t\\x18;\\xc6u\\x073\\xf6F\\x8b\\xfe\\xeb\\x10h\\xe8\\x03\\x00\\x00\\xff\\x154P@\\x00\\xeb\\xd73\\xf6F95tC@\\x00u\\nj\\x1f\\xe8\\xea\\x02\\x00\\x00Y\\xeb:9\\x1dtC@\\x00u,\\x895tC@\\x00h\\xf4\\x10@\\x00h\\xe8\\x10@\\x00\\xe8\\xf8\\x00\\x00\\x00YY\\x85\\xc0t\\x17\\xc7E\\xfc\\xfe\\xff\\xff\\xff\\xb8\\xff\\x00\\x00\\x00\\xe9\\xdb\\x00\\x00\\x00\\x8958C@\\x0095tC@\\x00u\\x1bh\\xe4\\x10@\\x00h\\xdc\\x10@\\x00\\xe8\\n\\x04\\x00\\x00YY\\xc7\\x05tC@\\x00\\x02\\x00\\x00\\x00\\x85\\xffu\\t3\\xc0\\xb9pC@\\x00\\x87\\x01\\x83=xC@\\x00\\x00t#hxC@\\x00\\xe8\\xd6\\x02\\x00\\x00Y\\x85\\xc0t\\x14Sj\\x02S\\x8b5xC@\\x00\\x8b\\xce\\xff\\x15\\x88Q@\\x00\\xff\\xd6\\xff5DC@\\x00\\xff5@C@\\x00\\xff5<C@\\x00\\xe8\\x96\\xe2\\xff\\xff\\x83\\xc4\\x0c\\xa34C@\\x00\\x83=LC@\\x00\\x00u6P\\xff\\x15hP@\\x00\\x8bM\\xec\\x8b\\x01\\x8b\\x00\\x89E\\xe4QP\\xe8k\\x01\\x00\\x00YY\\xc3\\x8be\\xe8\\x8bE\\xe4\\xa34C@\\x00\\x83=LC@\\x00\\x00u\\x07P\\xff\\x15\\x84P@\\x00\\x83=8C@\\x00\\x00u\\x0b\\xff\\x15`P@\\x00\\xa14C@\\x00\\xc7E\\xfc\\xfe\\xff\\xff\\xff\\xe8\\x94\\x03\\x00\\x00\\xc3\\x8b\\xffU\\x8b\\xecV\\x8bu\\x083\\xc0;u\\x0cs\\x1eW\\x85\\xc0u\\x18\\x8b>\\x85\\xfft\\n\\x8b\\xcf\\xff\\x15\\x88Q@\\x00\\xff\\xd7\\x83\\xc6\\x04;u\\x0cr\\xe4_^]\\xc3\\xb8MZ\\x00\\x00f9\\x05\\x00\\x00@\\x00uU\\x8b\\r<\\x00@\\x00\\x81\\xb9\\x00\\x00@\\x00PE\\x00\\x00uC\\x0f\\xb7\\x81\\x18\\x00@\\x00\\xba\\x0b\\x01\\x00\\x00f;\\xc2t\\x1f\\xba\\x0b\\x02\\x00\\x00f;\\xc2u(\\x83\\xb9\\x84\\x00@\\x00\\x0ev\\x1f3\\xc09\\x81\\xf8\\x00@\\x00\\x0f\\x95\\xc0\\xc3\\x83\\xb9t\\x00@\\x00\\x0ev\\n3\\xc09\\x81\\xe8\\x00@\\x00\\xeb\\xe93\\xc0\\xc3\\xcc\\xcc\\xcc\\xcc\\xcc\\xcc\\xcc\\xe8z\\xfb\\xff\\xff\\xe9\\xe9\\xfd\\xff\\xff\\xcc\\xcc\\xcc\\xcc\\xcc\\xcc\\x80\\xf9@s\\x15\\x80\\xf9 s\\x06\\x0f\\xad\\xd0\\xd3\\xea\\xc3\\x8b\\xc23\\xd2\\x80\\xe1\\x1f\\xd3\\xe8\\xc33\\xc03\\xd2\\xc3\\xcc\\x8b\\xffU\\x8b\\xec\\x8bE\\x08\\x8b\\x00\\x818csm\\xe0u+\\x83x\\x10\\x03u%\\x8b@\\x14= \\x05\\x93\\x19t\\x15=!\\x05\\x93\\x19t\\x0e=\"\\x05\\x93\\x19t\\x07=\\x00@\\x99\\x01u\\x06\\xff\\x15PP@\\x003\\xc0]\\xc2\\x04\\x00\\xcc\\xcc\\xcc\\xcc\\xcc\\xcc\\xcc\\xcc\\xcc\\xcc\\xcc\\xcc\\xcch\\x903@\\x00\\xff\\x150P@\\x003\\xc0\\xc3\\xff%|P@\\x00j\\x0ch\\xd06@\\x00\\xe8\\x10\\x02\\x00\\x003\\xc9\\x8bE\\x08\\x85\\xc0tK\\x83\\xf8\\xfftF\\x89M\\xfc\\xbaMZ\\x00\\x00f9\\x10u2\\x8bP<\\x85\\xd2x+\\x81\\xfa\\x00\\x00\\x00\\x10s#\\x03\\xc2\\x89E\\xe4\\x8b\\x08\\x81\\xe9PE\\x00\\x00\\xf7\\xd9\\x1b\\xc9\\xf7\\xd1#\\xc8\\xeb\\t3\\xc0@\\xc3\\x8be\\xe83\\xc9\\x89M\\xe4\\xc7E\\xfc\\xfe\\xff\\xff\\xff\\x8b\\xc1\\xe8\\xfa\\x01\\x00\\x00\\xc2\\x04\\x00\\x8b\\xffU\\x8b\\xecj\\x00\\xff\\x15(P@\\x00\\x85\\xc0t P\\xe8\\x7f\\xff\\xff\\xff\\x85\\xc0t\\x16\\x0f\\xb7H\\\\j\\x02Xf;\\xc8t\\r\\x83\\xf9\\x03u\\x053\\xc0@]\\xc3\\x8bE\\x08]\\xc3\\xff%tP@\\x00\\xcc\\xcc\\xcc\\xcc\\xcc\\xcc3\\xc0\\xc3\\xcc\\xcc\\xcc\\xcc\\xcc\\xcc\\xcc\\xcc\\xcc\\xcc\\xcc\\xcc\\xcc\\x8b\\xffU\\x8b\\xec\\x8bE\\x083\\xd2SVW\\x8bH<\\x03\\xc8\\x0f\\xb7A\\x14\\x0f\\xb7Y\\x06\\x83\\xc0\\x18\\x03\\xc1\\x85\\xdbt\\x1b\\x8b}\\x0c\\x8bp\\x0c;\\xfer\\t\\x8bH\\x08\\x03\\xce;\\xf9r\\nB\\x83\\xc0(;\\xd3r\\xe83\\xc0_^[]\\xc3\\xcc\\xcc\\xcc\\xcc\\xcc\\xcc\\xcc\\xcc\\xcc\\xcc\\xcc\\x8b\\xffU\\x8b\\xecj\\xfeh\\xf06@\\x00hp6@\\x00d\\xa1\\x00\\x00\\x00\\x00P\\x83\\xec\\x08SVW\\xa1\\x00@@\\x001E\\xf83\\xc5P\\x8dE\\xf0d\\xa3\\x00\\x00\\x00\\x00\\x89e\\xe8\\xc7E\\xfc\\x00\\x00\\x00\\x00h\\x00\\x00@\\x00\\xe8z\\x00\\x00\\x00\\x83\\xc4\\x04\\x85\\xc0tT\\x8bE\\x08-\\x00\\x00@\\x00Ph\\x00\\x00@\\x00\\xe8P\\xff\\xff\\xff\\x83\\xc4\\x08\\x85\\xc0t:\\x8b@$\\xc1\\xe8\\x1f\\xf7\\xd0\\x83\\xe0\\x01\\xc7E\\xfc\\xfe\\xff\\xff\\xff\\x8bM\\xf0d\\x89\\r\\x00\\x00\\x00\\x00Y_^[\\x8b\\xe5]\\xc3\\x8bE\\xec\\x8b\\x003\\xc9\\x818\\x05\\x00\\x00\\xc0\\x0f\\x94\\xc1\\x8b\\xc1\\xc3\\x8be\\xe8\\xc7E\\xfc\\xfe\\xff\\xff\\xff3\\xc0\\x8bM\\xf0d\\x89\\r\\x00\\x00\\x00\\x00Y_^[\\x8b\\xe5]\\xc3\\xcc\\xcc\\xcc\\xcc\\x8b\\xffU\\x8b\\xec\\x8bM\\x08\\xb8MZ\\x00\\x00f9\\x01u\\x1f\\x8bA<\\x03\\xc1\\x818PE\\x00\\x00u\\x12\\xb9\\x0b\\x01\\x00\\x00f9H\\x18u\\x07\\xb8\\x01\\x00\\x00\\x00]\\xc33\\xc0]\\xc3h\\x00\\x00\\x03\\x00h\\x00\\x00\\x01\\x00\\xff\\x15dP@\\x00YY\\xc3\\xff%TP@\\x00\\xcc\\xcchp6@\\x00d\\xff5\\x00\\x00\\x00\\x00\\x8bD$\\x10\\x89l$\\x10\\x8dl$\\x10+\\xe0SVW\\xa1\\x00@@\\x001E\\xfc3\\xc5P\\x89e\\xe8\\xffu\\xf8\\x8bE\\xfc\\xc7E\\xfc\\xfe\\xff\\xff\\xff\\x89E\\xf8\\x8dE\\xf0d\\xa3\\x00\\x00\\x00\\x00\\xc3\\x8bM\\xf0d\\x89\\r\\x00\\x00\\x00\\x00Y__^[\\x8b\\xe5]Q\\xc3\\xcc\\xcc\\xcc\\xcc\\xcc\\xcc\\xcc\\x8b\\xffU\\x8b\\xec\\xffu\\x14\\xffu\\x10\\xffu\\x0c\\xffu\\x08h\\xe0-@\\x00h\\x00@@\\x00\\xe8\\x13\\x00\\x00\\x00\\x83\\xc4\\x18]\\xc3\\xcc\\xcc\\xcc\\xcc\\xcc\\xcc\\xcc\\xcc\\xcc\\xcc\\xcc\\xc2\\x00\\x00\\xff%\\x80P@\\x00\\xcc\\xcc\\xcc\\xcc\\xcc\\xcc\\xcc\\xfe\\xff\\xff\\xff\\x00\\x00\\x00\\x00\\xd4\\xff\\xff\\xff\\x00\\x00\\x00\\x00\\xfe\\xff\\xff\\xffr2@\\x00\\x862@\\x00\\x00\\x00\\x00\\x00\\xfe\\xff\\xff\\xff\\x00\\x00\\x00\\x00\\xd4\\xff\\xff\\xff\\x00\\x00\\x00\\x00\\xfe\\xff\\xff\\xffA4@\\x00E4@\\x00\\x00\\x00\\x00\\x00\\xfe\\xff\\xff\\xff\\x00\\x00\\x00\\x00\\xd8\\xff\\xff\\xff\\x00\\x00\\x00\\x00\\xfe\\xff\\xff\\xff\\x8b5@\\x00\\x9e5@\\x00\\x00\\x00\\x00\\x00\\x00\\x00\\x00\\x00\\x00\\x00\\x00\\x00\\x00\\x00\\x00\\x00\\x00\\x00\\x00\\x00\\x00\\x00\\x00\\x00\\x00\\x00\\x00\\x00\\x00\\x00\\x00\\x00\\x00\\x00\\x00\\x00\\x00\\x00\\x00\\x00\\x00\\x00\\x00\\x00\\x00\\x00\\x00\\x00\\x00\\x00\\x00\\x00\\x00\\x00\\x00\\x00\\x00\\x00\\x00\\x00\\x00\\x00\\x00\\x00\\x00\\x00\\x00\\x00\\x00\\x00\\x00\\x00\\x00\\x00\\x00\\x00\\x00\\x00\\x00\\x00\\x00\\x00\\x00\\x00\\x00\\x00\\x00\\x00\\x00\\x00\\x00\\x00\\x00\\x00\\x00\\x00\\x00\\x00\\x00\\x00\\x00\\x00\\x00\\x00\\x00\\x00\\x00\\x00\\x00\\x00\\x00\\x00\\x00\\x00\\x00\\x00\\x00\\x00\\x00\\x00\\x00\\x00\\x00\\x00\\x00\\x00\\x00\\x00\\x00\\x00\\x00\\x00\\x00\\x00\\x00\\x00\\x00\\x00\\x00\\x00\\x00\\x00\\x00\\x00\\x00\\x00\\x00\\x00\\x00\\x00\\x00\\x00\\x00\\x00\\x00\\x00\\x00\\x00\\x00\\x00\\x00\\x00\\x00\\x00\\x00\\x00\\x00\\x00\\x00\\x00\\x00\\x00\\x00\\x00\\x00\\x00\\x00\\x00\\x00\\x00\\x00\\x00\\x00\\x00\\x00\\x00\\x00\\x00\\x00\\x00\\x00\\x00\\x00\\x00\\x00\\x00\\x00\\x00\\x00\\x00\\x00\\x00\\x00\\x00\\x00\\x00\\x00\\x00\\x00\\x00\\x00\\x00\\x00\\x00\\x00\\x00\\x00\\x00\\x00\\x00\\x00\\x00\\x00\\x00\\x00\\x00\\x00\\x00\\x00\\x00\\x00\\x00\\x00\\x00\\x00\\x00\\x00\\x00\\x00\\x00\\x00\\x00\\x00\\x00'"
            ]
          },
          "metadata": {},
          "execution_count": 84
        }
      ]
    },
    {
      "cell_type": "code",
      "source": [
        "arquivo_executavel.DIRECTORY_ENTRY_IMPORT"
      ],
      "metadata": {
        "colab": {
          "base_uri": "https://localhost:8080/"
        },
        "id": "04YTsqDljiYm",
        "outputId": "c79e710e-814a-45c2-c487-9ce2f930119f"
      },
      "execution_count": 168,
      "outputs": [
        {
          "output_type": "execute_result",
          "data": {
            "text/plain": [
              "[<pefile.ImportDescData at 0x7e72d5e94210>,\n",
              " <pefile.ImportDescData at 0x7e72d5e94250>,\n",
              " <pefile.ImportDescData at 0x7e72d5c8e690>,\n",
              " <pefile.ImportDescData at 0x7e72d5c8de10>,\n",
              " <pefile.ImportDescData at 0x7e72d5c8edd0>,\n",
              " <pefile.ImportDescData at 0x7e72d5c8cbd0>,\n",
              " <pefile.ImportDescData at 0x7e72d5c8d150>]"
            ]
          },
          "metadata": {},
          "execution_count": 168
        }
      ]
    },
    {
      "cell_type": "code",
      "source": [
        "importacoes = arquivo_executavel.DIRECTORY_ENTRY_IMPORT\n",
        "len(importacoes)"
      ],
      "metadata": {
        "colab": {
          "base_uri": "https://localhost:8080/"
        },
        "id": "o_qv_p6HeOS-",
        "outputId": "5bc64488-e73a-4451-8391-c361aabeff9d"
      },
      "execution_count": 170,
      "outputs": [
        {
          "output_type": "execute_result",
          "data": {
            "text/plain": [
              "7"
            ]
          },
          "metadata": {},
          "execution_count": 170
        }
      ]
    },
    {
      "cell_type": "code",
      "source": [
        "primeira_dll = importacoes[4]\n",
        "primeira_dll"
      ],
      "metadata": {
        "colab": {
          "base_uri": "https://localhost:8080/"
        },
        "id": "rKfyqv4LeZ9D",
        "outputId": "583a6bce-1e73-48f2-f577-8935db205a28"
      },
      "execution_count": 171,
      "outputs": [
        {
          "output_type": "execute_result",
          "data": {
            "text/plain": [
              "<pefile.ImportDescData at 0x7e72d5c8edd0>"
            ]
          },
          "metadata": {},
          "execution_count": 171
        }
      ]
    },
    {
      "cell_type": "code",
      "source": [
        "primeira_dll.imports[0].name.decode()"
      ],
      "metadata": {
        "colab": {
          "base_uri": "https://localhost:8080/",
          "height": 36
        },
        "id": "ZtSWB-OpnEE1",
        "outputId": "a881a6df-ca91-4fb7-92fa-01f8fc18e685"
      },
      "execution_count": 186,
      "outputs": [
        {
          "output_type": "execute_result",
          "data": {
            "text/plain": [
              "'RemoveUninstallImage'"
            ],
            "application/vnd.google.colaboratory.intrinsic+json": {
              "type": "string"
            }
          },
          "metadata": {},
          "execution_count": 186
        }
      ]
    },
    {
      "cell_type": "code",
      "source": [
        "i = 1\n",
        "for dll_chamada in arquivo_executavel.DIRECTORY_ENTRY_IMPORT:\n",
        "  print(f\"Nome da {i}° DLL: {dll_chamada.dll.decode()}\")\n",
        "  i+=1\n",
        "  print(\"Informações sobre as funções importadas:\")\n",
        "  for funcao in dll_chamada.imports:\n",
        "    print(f\"Nome da função: {funcao.name.decode()}\")\n",
        "    print(f\"Endereço IAT: {funcao.address}\")\n",
        "    print(\"\\n\")\n",
        "  print(f\"Estrutura da dll: {dll_chamada.struct}\")\n",
        "  print(\"-----------------------------------------------------\")"
      ],
      "metadata": {
        "colab": {
          "base_uri": "https://localhost:8080/"
        },
        "collapsed": true,
        "id": "0gT8T5TrjEm5",
        "outputId": "987e3a84-2857-4c78-adfd-b9b03fa8dece"
      },
      "execution_count": 194,
      "outputs": [
        {
          "output_type": "stream",
          "name": "stdout",
          "text": [
            "Nome da 1° DLL: ulib.dll\n",
            "Informações sobre as funções importadas:\n",
            "Nome da função: ?Strcat@WSTRING@@QAEEPBV1@@Z\n",
            "Endereço IAT: 4214944\n",
            "\n",
            "\n",
            "Nome da função: ?Initialize@WSTRING@@QAEEPBV1@KK@Z\n",
            "Endereço IAT: 4214948\n",
            "\n",
            "\n",
            "Nome da função: ?Initialize@WSTRING@@QAEEPBGK@Z\n",
            "Endereço IAT: 4214952\n",
            "\n",
            "\n",
            "Nome da função: ?Initialize@WSTRING@@QAEEPBDK@Z\n",
            "Endereço IAT: 4214956\n",
            "\n",
            "\n",
            "Nome da função: ??1OBJECT@@UAE@XZ\n",
            "Endereço IAT: 4214960\n",
            "\n",
            "\n",
            "Nome da função: ?Strupr@WSTRING@@QAEPAV1@XZ\n",
            "Endereço IAT: 4214964\n",
            "\n",
            "\n",
            "Nome da função: ?Stricmp@WSTRING@@QBEJPBV1@@Z\n",
            "Endereço IAT: 4214968\n",
            "\n",
            "\n",
            "Nome da função: ?DebugDump@OBJECT@@UBEXE@Z\n",
            "Endereço IAT: 4214972\n",
            "\n",
            "\n",
            "Nome da função: ?AnalyzePath@PATH@@QAE?AW4PATH_ANALYZE_CODE@@PAVWSTRING@@PAV1@0@Z\n",
            "Endereço IAT: 4214976\n",
            "\n",
            "\n",
            "Nome da função: ?QuerySystemDirectory@SYSTEM@@SGPAVPATH@@XZ\n",
            "Endereço IAT: 4214980\n",
            "\n",
            "\n",
            "Nome da função: ?QueryFile@SYSTEM@@SGPAVFSN_FILE@@PBVPATH@@EPAE@Z\n",
            "Endereço IAT: 4214984\n",
            "\n",
            "\n",
            "Nome da função: ?QueryCurrentDosDriveName@SYSTEM@@SGEPAVWSTRING@@@Z\n",
            "Endereço IAT: 4214988\n",
            "\n",
            "\n",
            "Nome da função: ?QueryDriveType@SYSTEM@@SG?AW4DRIVE_TYPE@@PBVWSTRING@@@Z\n",
            "Endereço IAT: 4214992\n",
            "\n",
            "\n",
            "Nome da função: ?QueryVolumeLabel@SYSTEM@@SGPAVWSTRING@@PAVPATH@@PAU_VOL_SERIAL_NUMBER@@@Z\n",
            "Endereço IAT: 4214996\n",
            "\n",
            "\n",
            "Nome da função: ?QueryLibraryEntryPoint@SYSTEM@@SGP6GHXZPBVWSTRING@@0PAPAX@Z\n",
            "Endereço IAT: 4215000\n",
            "\n",
            "\n",
            "Nome da função: ?FreeLibraryHandle@SYSTEM@@SGXPAX@Z\n",
            "Endereço IAT: 4215004\n",
            "\n",
            "\n",
            "Nome da função: ?QueryWindowsErrorMessage@SYSTEM@@SGEKPAVWSTRING@@@Z\n",
            "Endereço IAT: 4215008\n",
            "\n",
            "\n",
            "Nome da função: ??0FLAG_ARGUMENT@@QAE@XZ\n",
            "Endereço IAT: 4215012\n",
            "\n",
            "\n",
            "Nome da função: ?Initialize@FLAG_ARGUMENT@@QAEEPAD@Z\n",
            "Endereço IAT: 4215016\n",
            "\n",
            "\n",
            "Nome da função: ??0ARRAY@@QAE@XZ\n",
            "Endereço IAT: 4215020\n",
            "\n",
            "\n",
            "Nome da função: ?IsGuidVolName@PATH@@QAEEXZ\n",
            "Endereço IAT: 4215024\n",
            "\n",
            "\n",
            "Nome da função: ??0PATH@@QAE@XZ\n",
            "Endereço IAT: 4215028\n",
            "\n",
            "\n",
            "Nome da função: ?Initialize@PATH@@QAEEPBVWSTRING@@E@Z\n",
            "Endereço IAT: 4215032\n",
            "\n",
            "\n",
            "Nome da função: ??1PATH@@UAE@XZ\n",
            "Endereço IAT: 4215036\n",
            "\n",
            "\n",
            "Nome da função: ?AppendBase@PATH@@QAEEPBVWSTRING@@E@Z\n",
            "Endereço IAT: 4215040\n",
            "\n",
            "\n",
            "Nome da função: ?Compare@OBJECT@@UBEJPBV1@@Z\n",
            "Endereço IAT: 4215044\n",
            "\n",
            "\n",
            "Nome da função: ??0CLASS_DESCRIPTOR@@QAE@XZ\n",
            "Endereço IAT: 4215048\n",
            "\n",
            "\n",
            "Nome da função: ?Initialize@CLASS_DESCRIPTOR@@QAEEPBD@Z\n",
            "Endereço IAT: 4215052\n",
            "\n",
            "\n",
            "Nome da função: ?Initialize@PROGRAM@@QAEEKKK@Z\n",
            "Endereço IAT: 4215056\n",
            "\n",
            "\n",
            "Nome da função: ??1PROGRAM@@UAE@XZ\n",
            "Endereço IAT: 4215060\n",
            "\n",
            "\n",
            "Nome da função: ?DisplayMessage@PROGRAM@@UBAEKW4MESSAGE_TYPE@@PADZZ\n",
            "Endereço IAT: 4215064\n",
            "\n",
            "\n",
            "Nome da função: ??1ARRAY@@UAE@XZ\n",
            "Endereço IAT: 4215068\n",
            "\n",
            "\n",
            "Nome da função: ?Initialize@ARRAY@@QAEEKK@Z\n",
            "Endereço IAT: 4215072\n",
            "\n",
            "\n",
            "Nome da função: ?Put@ARRAY@@UAEEPAVOBJECT@@@Z\n",
            "Endereço IAT: 4215076\n",
            "\n",
            "\n",
            "Nome da função: ??0DSTRING@@QAE@XZ\n",
            "Endereço IAT: 4215080\n",
            "\n",
            "\n",
            "Nome da função: ?DisplayMessage@PROGRAM@@UBEEKW4MESSAGE_TYPE@@@Z\n",
            "Endereço IAT: 4215084\n",
            "\n",
            "\n",
            "Nome da função: ?Fatal@PROGRAM@@UBAXKKPADZZ\n",
            "Endereço IAT: 4215088\n",
            "\n",
            "\n",
            "Nome da função: ?Fatal@PROGRAM@@UBEXXZ\n",
            "Endereço IAT: 4215092\n",
            "\n",
            "\n",
            "Nome da função: ?GetStandardInput@PROGRAM@@UAEPAVSTREAM@@XZ\n",
            "Endereço IAT: 4215096\n",
            "\n",
            "\n",
            "Nome da função: ?GetStandardOutput@PROGRAM@@UAEPAVSTREAM@@XZ\n",
            "Endereço IAT: 4215100\n",
            "\n",
            "\n",
            "Nome da função: ?GetStandardError@PROGRAM@@UAEPAVSTREAM@@XZ\n",
            "Endereço IAT: 4215104\n",
            "\n",
            "\n",
            "Nome da função: ?Usage@PROGRAM@@UBEXXZ\n",
            "Endereço IAT: 4215108\n",
            "\n",
            "\n",
            "Nome da função: ?ValidateVersion@PROGRAM@@UBEXKK@Z\n",
            "Endereço IAT: 4215112\n",
            "\n",
            "\n",
            "Nome da função: ??0PROGRAM@@IAE@XZ\n",
            "Endereço IAT: 4215116\n",
            "\n",
            "\n",
            "Nome da função: ??0STRING_ARGUMENT@@QAE@XZ\n",
            "Endereço IAT: 4215120\n",
            "\n",
            "\n",
            "Nome da função: ??1STRING_ARGUMENT@@UAE@XZ\n",
            "Endereço IAT: 4215124\n",
            "\n",
            "\n",
            "Nome da função: ?Initialize@STRING_ARGUMENT@@QAEEPAD@Z\n",
            "Endereço IAT: 4215128\n",
            "\n",
            "\n",
            "Nome da função: ??0ARGUMENT_LEXEMIZER@@QAE@XZ\n",
            "Endereço IAT: 4215132\n",
            "\n",
            "\n",
            "Nome da função: ??1ARGUMENT_LEXEMIZER@@UAE@XZ\n",
            "Endereço IAT: 4215136\n",
            "\n",
            "\n",
            "Nome da função: ?Initialize@ARGUMENT_LEXEMIZER@@QAEEPAVARRAY@@@Z\n",
            "Endereço IAT: 4215140\n",
            "\n",
            "\n",
            "Nome da função: ?DoParsing@ARGUMENT_LEXEMIZER@@QAEEPAVARRAY@@@Z\n",
            "Endereço IAT: 4215144\n",
            "\n",
            "\n",
            "Nome da função: ?QueryInvalidArgument@ARGUMENT_LEXEMIZER@@QAEPAVWSTRING@@XZ\n",
            "Endereço IAT: 4215148\n",
            "\n",
            "\n",
            "Nome da função: ?PrepareToParse@ARGUMENT_LEXEMIZER@@QAEEPAVWSTRING@@@Z\n",
            "Endereço IAT: 4215152\n",
            "\n",
            "\n",
            "Nome da função: ?IsValueSet@ARGUMENT@@QAEEXZ\n",
            "Endereço IAT: 4215156\n",
            "\n",
            "\n",
            "Nome da função: ?SetCaseSensitive@ARGUMENT_LEXEMIZER@@QAEXE@Z\n",
            "Endereço IAT: 4215160\n",
            "\n",
            "\n",
            "Nome da função: ??8WSTRING@@QBEEABV0@@Z\n",
            "Endereço IAT: 4215164\n",
            "\n",
            "\n",
            "Nome da função: ??1DSTRING@@UAE@XZ\n",
            "Endereço IAT: 4215168\n",
            "\n",
            "\n",
            "Estrutura da dll: [IMAGE_IMPORT_DESCRIPTOR]\n",
            "0x2F8C     0x0   OriginalFirstThunk:            0x52CC    \n",
            "0x2F8C     0x0   Characteristics:               0x52CC    \n",
            "0x2F90     0x4   TimeDateStamp:                 0x0        [Thu Jan  1 00:00:00 1970 UTC]\n",
            "0x2F94     0x8   ForwarderChain:                0x0       \n",
            "0x2F98     0xC   Name:                          0x5C2C    \n",
            "0x2F9C     0x10  FirstThunk:                    0x50A0    \n",
            "-----------------------------------------------------\n",
            "Nome da 2° DLL: IfsUtil.dll\n",
            "Informações sobre as funções importadas:\n",
            "Nome da função: ?QueryFileSystemName@IFS_SYSTEM@@SGEPBVWSTRING@@PAV2@PAJ1@Z\n",
            "Endereço IAT: 4214784\n",
            "\n",
            "\n",
            "Nome da função: ?DeleteEntry@AUTOREG@@SGEPBVWSTRING@@0@Z\n",
            "Endereço IAT: 4214788\n",
            "\n",
            "\n",
            "Nome da função: ?AddEntry@AUTOREG@@SGEPBVWSTRING@@@Z\n",
            "Endereço IAT: 4214792\n",
            "\n",
            "\n",
            "Nome da função: ?GenerateLabelNotification@SUPERAREA@@SGJPBVWSTRING@@PAV2@PAU_FILE_FS_SIZE_INFORMATION@@PAU_FILE_FS_VOLUME_INFORMATION@@@Z\n",
            "Endereço IAT: 4214796\n",
            "\n",
            "\n",
            "Nome da função: ?DosDriveNameToNtDriveName@IFS_SYSTEM@@SGEPBVWSTRING@@PAV2@@Z\n",
            "Endereço IAT: 4214800\n",
            "\n",
            "\n",
            "Nome da função: ?IsArcSystemPartition@IFS_SYSTEM@@SGEPBVWSTRING@@PAE@Z\n",
            "Endereço IAT: 4214804\n",
            "\n",
            "\n",
            "Estrutura da dll: [IMAGE_IMPORT_DESCRIPTOR]\n",
            "0x2FA0     0x0   OriginalFirstThunk:            0x522C    \n",
            "0x2FA0     0x0   Characteristics:               0x522C    \n",
            "0x2FA4     0x4   TimeDateStamp:                 0x0        [Thu Jan  1 00:00:00 1970 UTC]\n",
            "0x2FA8     0x8   ForwarderChain:                0x0       \n",
            "0x2FAC     0xC   Name:                          0x5DC0    \n",
            "0x2FB0     0x10  FirstThunk:                    0x5000    \n",
            "-----------------------------------------------------\n",
            "Nome da 3° DLL: ntdll.dll\n",
            "Informações sobre as funções importadas:\n",
            "Nome da função: RtlUnhandledExceptionFilter\n",
            "Endereço IAT: 4214924\n",
            "\n",
            "\n",
            "Nome da função: NtTerminateProcess\n",
            "Endereço IAT: 4214928\n",
            "\n",
            "\n",
            "Nome da função: RtlFreeHeap\n",
            "Endereço IAT: 4214932\n",
            "\n",
            "\n",
            "Nome da função: RtlAllocateHeap\n",
            "Endereço IAT: 4214936\n",
            "\n",
            "\n",
            "Estrutura da dll: [IMAGE_IMPORT_DESCRIPTOR]\n",
            "0x2FB4     0x0   OriginalFirstThunk:            0x52B8    \n",
            "0x2FB4     0x0   Characteristics:               0x52B8    \n",
            "0x2FB8     0x4   TimeDateStamp:                 0x0        [Thu Jan  1 00:00:00 1970 UTC]\n",
            "0x2FBC     0x8   ForwarderChain:                0x0       \n",
            "0x2FC0     0xC   Name:                          0x5E20    \n",
            "0x2FC4     0x10  FirstThunk:                    0x508C    \n",
            "-----------------------------------------------------\n",
            "Nome da 4° DLL: SCECLI.dll\n",
            "Informações sobre as funções importadas:\n",
            "Nome da função: SceConfigureConvertedFileSecurity\n",
            "Endereço IAT: 4214856\n",
            "\n",
            "\n",
            "Estrutura da dll: [IMAGE_IMPORT_DESCRIPTOR]\n",
            "0x2FC8     0x0   OriginalFirstThunk:            0x5274    \n",
            "0x2FC8     0x0   Characteristics:               0x5274    \n",
            "0x2FCC     0x4   TimeDateStamp:                 0x0        [Thu Jan  1 00:00:00 1970 UTC]\n",
            "0x2FD0     0x8   ForwarderChain:                0x0       \n",
            "0x2FD4     0xC   Name:                          0x5E4E    \n",
            "0x2FD8     0x10  FirstThunk:                    0x5048    \n",
            "-----------------------------------------------------\n",
            "Nome da 5° DLL: OSUNINST.dll\n",
            "Informações sobre as funções importadas:\n",
            "Nome da função: RemoveUninstallImage\n",
            "Endereço IAT: 4214844\n",
            "\n",
            "\n",
            "Nome da função: IsUninstallImageValid\n",
            "Endereço IAT: 4214848\n",
            "\n",
            "\n",
            "Estrutura da dll: [IMAGE_IMPORT_DESCRIPTOR]\n",
            "0x2FDC     0x0   OriginalFirstThunk:            0x5268    \n",
            "0x2FDC     0x0   Characteristics:               0x5268    \n",
            "0x2FE0     0x4   TimeDateStamp:                 0x0        [Thu Jan  1 00:00:00 1970 UTC]\n",
            "0x2FE4     0x8   ForwarderChain:                0x0       \n",
            "0x2FE8     0xC   Name:                          0x5E8A    \n",
            "0x2FEC     0x10  FirstThunk:                    0x503C    \n",
            "-----------------------------------------------------\n",
            "Nome da 6° DLL: KERNEL32.dll\n",
            "Informações sobre as funções importadas:\n",
            "Nome da função: SetErrorMode\n",
            "Endereço IAT: 4214812\n",
            "\n",
            "\n",
            "Nome da função: GetLastError\n",
            "Endereço IAT: 4214816\n",
            "\n",
            "\n",
            "Nome da função: HeapSetInformation\n",
            "Endereço IAT: 4214820\n",
            "\n",
            "\n",
            "Nome da função: GetModuleHandleW\n",
            "Endereço IAT: 4214824\n",
            "\n",
            "\n",
            "Nome da função: CompareStringW\n",
            "Endereço IAT: 4214828\n",
            "\n",
            "\n",
            "Nome da função: SetUnhandledExceptionFilter\n",
            "Endereço IAT: 4214832\n",
            "\n",
            "\n",
            "Nome da função: Sleep\n",
            "Endereço IAT: 4214836\n",
            "\n",
            "\n",
            "Estrutura da dll: [IMAGE_IMPORT_DESCRIPTOR]\n",
            "0x2FF0     0x0   OriginalFirstThunk:            0x5248    \n",
            "0x2FF0     0x0   Characteristics:               0x5248    \n",
            "0x2FF4     0x4   TimeDateStamp:                 0x0        [Thu Jan  1 00:00:00 1970 UTC]\n",
            "0x2FF8     0x8   ForwarderChain:                0x0       \n",
            "0x2FFC     0xC   Name:                          0x5EE0    \n",
            "0x3000     0x10  FirstThunk:                    0x501C    \n",
            "-----------------------------------------------------\n",
            "Nome da 7° DLL: msvcrt.dll\n",
            "Informações sobre as funções importadas:\n",
            "Nome da função: ?terminate@@YAXXZ\n",
            "Endereço IAT: 4214864\n",
            "\n",
            "\n",
            "Nome da função: _initterm\n",
            "Endereço IAT: 4214868\n",
            "\n",
            "\n",
            "Nome da função: __setusermatherr\n",
            "Endereço IAT: 4214872\n",
            "\n",
            "\n",
            "Nome da função: __p__fmode\n",
            "Endereço IAT: 4214876\n",
            "\n",
            "\n",
            "Nome da função: _cexit\n",
            "Endereço IAT: 4214880\n",
            "\n",
            "\n",
            "Nome da função: _controlfp\n",
            "Endereço IAT: 4214884\n",
            "\n",
            "\n",
            "Nome da função: exit\n",
            "Endereço IAT: 4214888\n",
            "\n",
            "\n",
            "Nome da função: __set_app_type\n",
            "Endereço IAT: 4214892\n",
            "\n",
            "\n",
            "Nome da função: __getmainargs\n",
            "Endereço IAT: 4214896\n",
            "\n",
            "\n",
            "Nome da função: _amsg_exit\n",
            "Endereço IAT: 4214900\n",
            "\n",
            "\n",
            "Nome da função: __p__commode\n",
            "Endereço IAT: 4214904\n",
            "\n",
            "\n",
            "Nome da função: _XcptFilter\n",
            "Endereço IAT: 4214908\n",
            "\n",
            "\n",
            "Nome da função: _except_handler4_common\n",
            "Endereço IAT: 4214912\n",
            "\n",
            "\n",
            "Nome da função: _exit\n",
            "Endereço IAT: 4214916\n",
            "\n",
            "\n",
            "Estrutura da dll: [IMAGE_IMPORT_DESCRIPTOR]\n",
            "0x3004     0x0   OriginalFirstThunk:            0x527C    \n",
            "0x3004     0x0   Characteristics:               0x527C    \n",
            "0x3008     0x4   TimeDateStamp:                 0x0        [Thu Jan  1 00:00:00 1970 UTC]\n",
            "0x300C     0x8   ForwarderChain:                0x0       \n",
            "0x3010     0xC   Name:                          0x5F98    \n",
            "0x3014     0x10  FirstThunk:                    0x5050    \n",
            "-----------------------------------------------------\n"
          ]
        }
      ]
    },
    {
      "cell_type": "code",
      "source": [
        "primeira_dll = importacoes[4]\n",
        "primeira_dll\n",
        "\n",
        "#obter o nome da dll importada\n",
        "print(f\"Nome da dll: {primeira_dll.dll.decode()}\")\n",
        "print(\"----------------------------------\")\n",
        "\n",
        "#obter as funções chamadas dessa biblioteca importada\n",
        "for funcao in primeira_dll.imports:\n",
        "    print(f\"Nome da função: {funcao.name.decode()}\")\n",
        "    print(f\"Endereço IAT: {funcao.address}\")\n",
        "    print(\"----------------------------------\")\n",
        "\n",
        "#obter a estrutura da dll\n",
        "print(f\"Estrutura da dll: {primeira_dll.struct}\")"
      ],
      "metadata": {
        "colab": {
          "base_uri": "https://localhost:8080/"
        },
        "id": "4Jv6N9FLez0h",
        "outputId": "d5654882-00c5-4f0f-8cd3-6e127aaa7fa8"
      },
      "execution_count": 192,
      "outputs": [
        {
          "output_type": "stream",
          "name": "stdout",
          "text": [
            "Nome da dll: OSUNINST.dll\n",
            "----------------------------------\n",
            "Nome da função: RemoveUninstallImage\n",
            "Endereço IAT: 4214844\n",
            "----------------------------------\n",
            "Nome da função: IsUninstallImageValid\n",
            "Endereço IAT: 4214848\n",
            "----------------------------------\n",
            "Estrutura da dll: [IMAGE_IMPORT_DESCRIPTOR]\n",
            "0x2FDC     0x0   OriginalFirstThunk:            0x5268    \n",
            "0x2FDC     0x0   Characteristics:               0x5268    \n",
            "0x2FE0     0x4   TimeDateStamp:                 0x0        [Thu Jan  1 00:00:00 1970 UTC]\n",
            "0x2FE4     0x8   ForwarderChain:                0x0       \n",
            "0x2FE8     0xC   Name:                          0x5E8A    \n",
            "0x2FEC     0x10  FirstThunk:                    0x503C    \n"
          ]
        }
      ]
    },
    {
      "cell_type": "code",
      "source": [
        "print(primeira_dll.struct)"
      ],
      "metadata": {
        "colab": {
          "base_uri": "https://localhost:8080/"
        },
        "id": "lsigeY9AiepW",
        "outputId": "37a6d97e-644e-4618-95b7-d5c6996fefd0"
      },
      "execution_count": 152,
      "outputs": [
        {
          "output_type": "stream",
          "name": "stdout",
          "text": [
            "[IMAGE_IMPORT_DESCRIPTOR]\n",
            "0x2F8C     0x0   OriginalFirstThunk:            0x52CC    \n",
            "0x2F8C     0x0   Characteristics:               0x52CC    \n",
            "0x2F90     0x4   TimeDateStamp:                 0x0        [Thu Jan  1 00:00:00 1970 UTC]\n",
            "0x2F94     0x8   ForwarderChain:                0x0       \n",
            "0x2F98     0xC   Name:                          0x5C2C    \n",
            "0x2F9C     0x10  FirstThunk:                    0x50A0    \n"
          ]
        }
      ]
    },
    {
      "cell_type": "code",
      "source": [
        "nome_da_dll = arquivo_executavel.DIRECTORY_ENTRY_IMPORT[0].dll.decode()\n",
        "nome_da_dll"
      ],
      "metadata": {
        "colab": {
          "base_uri": "https://localhost:8080/",
          "height": 36
        },
        "id": "xX-uRusqdLuN",
        "outputId": "035eb2dd-54d1-4eac-8592-9cf1efac3239"
      },
      "execution_count": 107,
      "outputs": [
        {
          "output_type": "execute_result",
          "data": {
            "text/plain": [
              "'ulib.dll'"
            ],
            "application/vnd.google.colaboratory.intrinsic+json": {
              "type": "string"
            }
          },
          "metadata": {},
          "execution_count": 107
        }
      ]
    }
  ]
}