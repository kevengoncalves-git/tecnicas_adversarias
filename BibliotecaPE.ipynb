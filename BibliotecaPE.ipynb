{
  "nbformat": 4,
  "nbformat_minor": 0,
  "metadata": {
    "colab": {
      "provenance": [],
      "include_colab_link": true
    },
    "kernelspec": {
      "name": "python3",
      "display_name": "Python 3"
    },
    "language_info": {
      "name": "python"
    }
  },
  "cells": [
    {
      "cell_type": "markdown",
      "metadata": {
        "id": "view-in-github",
        "colab_type": "text"
      },
      "source": [
        "<a href=\"https://colab.research.google.com/github/kevengoncalves-git/tecnicas_adversarias/blob/Edu/BibliotecaPE.ipynb\" target=\"_parent\"><img src=\"https://colab.research.google.com/assets/colab-badge.svg\" alt=\"Open In Colab\"/></a>"
      ]
    },
    {
      "cell_type": "code",
      "source": [
        "!pip install pefile"
      ],
      "metadata": {
        "colab": {
          "base_uri": "https://localhost:8080/"
        },
        "id": "K64KT8R62UcZ",
        "outputId": "52af65a3-00e1-4031-f532-e6d51332a183"
      },
      "execution_count": null,
      "outputs": [
        {
          "output_type": "stream",
          "name": "stdout",
          "text": [
            "Requirement already satisfied: pefile in /usr/local/lib/python3.11/dist-packages (2024.8.26)\n"
          ]
        }
      ]
    },
    {
      "cell_type": "code",
      "source": [
        "from google.colab import drive\n",
        "drive.mount('/content/drive')"
      ],
      "metadata": {
        "id": "IhtGYSuwyEH2",
        "outputId": "5c4434e7-9f36-4559-a13f-3de9a72da561",
        "colab": {
          "base_uri": "https://localhost:8080/"
        }
      },
      "execution_count": null,
      "outputs": [
        {
          "output_type": "stream",
          "name": "stdout",
          "text": [
            "Mounted at /content/drive\n"
          ]
        }
      ]
    },
    {
      "cell_type": "code",
      "source": [
        "import subprocess"
      ],
      "metadata": {
        "id": "hUDxrBbrj74N"
      },
      "execution_count": 16,
      "outputs": []
    },
    {
      "cell_type": "code",
      "source": [
        "import pefile\n",
        "\n",
        "def editar_binario(caminho_good):\n",
        "\n",
        "  pe =  pefile.PE(caminho_good)\n",
        "  empty_spaces = []\n",
        "  name_file = caminho_good.split('/')[-1][:-4]\n",
        "\n",
        "  for section in pe.sections:\n",
        "\n",
        "    if b'.data' in section.Name:\n",
        "\n",
        "      print(f\"Seção encontrada: {section.Name}\")\n",
        "      raw_offset = section.PointerToRawData\n",
        "      size_data = int(len(section.get_data()))\n",
        "      data_section = section.get_data()\n",
        "\n",
        "      for i in range(0,int(size_data/16)):\n",
        "        if data_section[16*i:16*(i+1)] == b'\\x00'*16:\n",
        "          empty_spaces.append([16*i,16*(i+1)])\n",
        "          #print(f'{16*i} - {16*(i+1)}')\n",
        "\n",
        "      section_data = bytearray(data_section)\n",
        "      section_data[empty_spaces[0][0]:empty_spaces[0][1]] = b'\\x62\\x69\\x74\\x63\\x6F\\x69\\x6E\\x40\\x40\\x62\\x69\\x74\\x63\\x6F\\x69\\x6E'\n",
        "\n",
        "      with open(caminho_good, \"rb\") as f:\n",
        "        data = bytearray(f.read())\n",
        "        data[raw_offset:raw_offset + size_data] = section_data\n",
        "\n",
        "      with open(f\"{name_file}_modificado.exe\", \"wb\") as f:\n",
        "        f.write(data)\n",
        "  return \"Bits Alterados\""
      ],
      "metadata": {
        "id": "DFEX7XrLUCvE"
      },
      "execution_count": null,
      "outputs": []
    },
    {
      "cell_type": "code",
      "source": [
        "editar_binario('/content/drive/MyDrive/Goodware_Test/goodware_test/FreeStopwatch.exe')"
      ],
      "metadata": {
        "colab": {
          "base_uri": "https://localhost:8080/",
          "height": 53
        },
        "id": "FAg4YYvxaac-",
        "outputId": "51cacd97-7619-4fce-e1cc-a6e4438a17a4"
      },
      "execution_count": null,
      "outputs": [
        {
          "output_type": "stream",
          "name": "stdout",
          "text": [
            "Seção encontrada: b'.data\\x00\\x00\\x00'\n"
          ]
        },
        {
          "output_type": "execute_result",
          "data": {
            "text/plain": [
              "'Bits Alterados'"
            ],
            "application/vnd.google.colaboratory.intrinsic+json": {
              "type": "string"
            }
          },
          "metadata": {},
          "execution_count": 15
        }
      ]
    },
    {
      "cell_type": "code",
      "source": [
        "resul = subprocess.run([\".\\\\goodwares\\\\FreeStopwatch.exe\"], shell=True, text=True, stdout=True)\n",
        "\n",
        "print(resul.stdout)"
      ],
      "metadata": {
        "id": "vkw_4rLIj51q"
      },
      "execution_count": null,
      "outputs": []
    }
  ]
}