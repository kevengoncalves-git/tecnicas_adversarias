{
  "nbformat": 4,
  "nbformat_minor": 0,
  "metadata": {
    "colab": {
      "provenance": [],
      "include_colab_link": true
    },
    "kernelspec": {
      "name": "python3",
      "display_name": "Python 3"
    },
    "language_info": {
      "name": "python"
    }
  },
  "cells": [
    {
      "cell_type": "markdown",
      "metadata": {
        "id": "view-in-github",
        "colab_type": "text"
      },
      "source": [
        "<a href=\"https://colab.research.google.com/github/kevengoncalves-git/tecnicas_adversarias/blob/Edu/BibliotecaPE.ipynb\" target=\"_parent\"><img src=\"https://colab.research.google.com/assets/colab-badge.svg\" alt=\"Open In Colab\"/></a>"
      ]
    },
    {
      "cell_type": "code",
      "source": [
        "!pip install pefile"
      ],
      "metadata": {
        "colab": {
          "base_uri": "https://localhost:8080/",
          "height": 0
        },
        "id": "K64KT8R62UcZ",
        "outputId": "dd2f5c71-4ee6-4867-cbb7-d546af0300c1"
      },
      "execution_count": 1,
      "outputs": [
        {
          "output_type": "stream",
          "name": "stdout",
          "text": [
            "Collecting pefile\n",
            "  Downloading pefile-2024.8.26-py3-none-any.whl.metadata (1.4 kB)\n",
            "Downloading pefile-2024.8.26-py3-none-any.whl (74 kB)\n",
            "\u001b[?25l   \u001b[90m━━━━━━━━━━━━━━━━━━━━━━━━━━━━━━━━━━━━━━━━\u001b[0m \u001b[32m0.0/74.8 kB\u001b[0m \u001b[31m?\u001b[0m eta \u001b[36m-:--:--\u001b[0m\r\u001b[2K   \u001b[90m━━━━━━━━━━━━━━━━━━━━━━━━━━━━━━━━━━━━━━━━\u001b[0m \u001b[32m74.8/74.8 kB\u001b[0m \u001b[31m5.1 MB/s\u001b[0m eta \u001b[36m0:00:00\u001b[0m\n",
            "\u001b[?25hInstalling collected packages: pefile\n",
            "Successfully installed pefile-2024.8.26\n"
          ]
        }
      ]
    },
    {
      "cell_type": "code",
      "execution_count": 2,
      "metadata": {
        "id": "ArHsC5fnn2Vh"
      },
      "outputs": [],
      "source": [
        "import pefile"
      ]
    },
    {
      "cell_type": "code",
      "source": [
        "pe = pefile.PE('/content/3c8ad2dae0b1bb536925b4e8d5a87e77c6134371eada2c7628358d6c6d3083dc')"
      ],
      "metadata": {
        "id": "_Mviv_ve9MC7"
      },
      "execution_count": 3,
      "outputs": []
    },
    {
      "cell_type": "code",
      "source": [
        "print(pe.FILE_HEADER)"
      ],
      "metadata": {
        "id": "gKBtiHtB96lw",
        "outputId": "867bed26-f732-43aa-c03b-27808fd6eda5",
        "colab": {
          "base_uri": "https://localhost:8080/",
          "height": 0
        }
      },
      "execution_count": 9,
      "outputs": [
        {
          "output_type": "stream",
          "name": "stdout",
          "text": [
            "[IMAGE_FILE_HEADER]\n",
            "0x84       0x0   Machine:                       0x14C     \n",
            "0x86       0x2   NumberOfSections:              0x8       \n",
            "0x88       0x4   TimeDateStamp:                 0x61EA91B5 [Fri Jan 21 10:57:57 2022 UTC]\n",
            "0x8C       0x8   PointerToSymbolTable:          0x0       \n",
            "0x90       0xC   NumberOfSymbols:               0x0       \n",
            "0x94       0x10  SizeOfOptionalHeader:          0xE0      \n",
            "0x96       0x12  Characteristics:               0x32F     \n"
          ]
        }
      ]
    },
    {
      "cell_type": "code",
      "source": [
        "print(pe.DOS_HEADER)"
      ],
      "metadata": {
        "id": "YFDNxnvDBq-1",
        "outputId": "fa6f7809-4bde-4c9c-a416-1e33baa3667c",
        "colab": {
          "base_uri": "https://localhost:8080/",
          "height": 0
        }
      },
      "execution_count": 12,
      "outputs": [
        {
          "output_type": "stream",
          "name": "stdout",
          "text": [
            "[IMAGE_DOS_HEADER]\n",
            "0x0        0x0   e_magic:                       0x5A4D    \n",
            "0x2        0x2   e_cblp:                        0x90      \n",
            "0x4        0x4   e_cp:                          0x3       \n",
            "0x6        0x6   e_crlc:                        0x0       \n",
            "0x8        0x8   e_cparhdr:                     0x4       \n",
            "0xA        0xA   e_minalloc:                    0x0       \n",
            "0xC        0xC   e_maxalloc:                    0xFFFF    \n",
            "0xE        0xE   e_ss:                          0x0       \n",
            "0x10       0x10  e_sp:                          0xB8      \n",
            "0x12       0x12  e_csum:                        0x0       \n",
            "0x14       0x14  e_ip:                          0x0       \n",
            "0x16       0x16  e_cs:                          0x0       \n",
            "0x18       0x18  e_lfarlc:                      0x40      \n",
            "0x1A       0x1A  e_ovno:                        0x0       \n",
            "0x1C       0x1C  e_res:                         \n",
            "0x24       0x24  e_oemid:                       0x0       \n",
            "0x26       0x26  e_oeminfo:                     0x0       \n",
            "0x28       0x28  e_res2:                        \n",
            "0x3C       0x3C  e_lfanew:                      0x80      \n"
          ]
        }
      ]
    },
    {
      "cell_type": "code",
      "source": [
        "pe.FILE_HEADER.TimeDateStamp = 0"
      ],
      "metadata": {
        "id": "kmUvQwlnD3XT"
      },
      "execution_count": 29,
      "outputs": []
    },
    {
      "cell_type": "code",
      "source": [
        "print(pe.FILE_HEADER)"
      ],
      "metadata": {
        "id": "8vtM-XOJJbnI",
        "outputId": "95ef43ca-a1c7-4f0e-c470-e633cd350e0b",
        "colab": {
          "base_uri": "https://localhost:8080/",
          "height": 0
        }
      },
      "execution_count": 30,
      "outputs": [
        {
          "output_type": "stream",
          "name": "stdout",
          "text": [
            "[IMAGE_FILE_HEADER]\n",
            "0x84       0x0   Machine:                       0x14C     \n",
            "0x86       0x2   NumberOfSections:              0x8       \n",
            "0x88       0x4   TimeDateStamp:                 0x0        [Thu Jan  1 00:00:00 1970 UTC]\n",
            "0x8C       0x8   PointerToSymbolTable:          0x0       \n",
            "0x90       0xC   NumberOfSymbols:               0x0       \n",
            "0x94       0x10  SizeOfOptionalHeader:          0xE0      \n",
            "0x96       0x12  Characteristics:               0x32F     \n"
          ]
        }
      ]
    }
  ]
}